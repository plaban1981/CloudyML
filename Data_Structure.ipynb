{
  "nbformat": 4,
  "nbformat_minor": 5,
  "metadata": {
    "kernelspec": {
      "display_name": "Python 3",
      "language": "python",
      "name": "python3"
    },
    "language_info": {
      "codemirror_mode": {
        "name": "ipython",
        "version": 3
      },
      "file_extension": ".py",
      "mimetype": "text/x-python",
      "name": "python",
      "nbconvert_exporter": "python",
      "pygments_lexer": "ipython3",
      "version": "3.8.5"
    },
    "colab": {
      "name": "Data Structure.ipynb",
      "provenance": [],
      "include_colab_link": true
    }
  },
  "cells": [
    {
      "cell_type": "markdown",
      "metadata": {
        "id": "view-in-github",
        "colab_type": "text"
      },
      "source": [
        "<a href=\"https://colab.research.google.com/github/plaban1981/CloudyML/blob/main/Data_Structure.ipynb\" target=\"_parent\"><img src=\"https://colab.research.google.com/assets/colab-badge.svg\" alt=\"Open In Colab\"/></a>"
      ]
    },
    {
      "cell_type": "markdown",
      "metadata": {
        "id": "cpdwcGt5Hyuc"
      },
      "source": [
        "# <center> <u>Data Structures <u> </center>"
      ],
      "id": "cpdwcGt5Hyuc"
    },
    {
      "cell_type": "markdown",
      "metadata": {
        "id": "AQ5dsVluHyug"
      },
      "source": [
        "## 1. Lists\n",
        "\n",
        "Reference:- https://www.youtube.com/watch?v=ohCDWZgNIU0\n"
      ],
      "id": "AQ5dsVluHyug"
    },
    {
      "cell_type": "markdown",
      "metadata": {
        "id": "w7Sw4_B_Hyuh"
      },
      "source": [
        "<p style='text-align: right;'> 1+1+1 = 3 points</p>\n"
      ],
      "id": "w7Sw4_B_Hyuh"
    },
    {
      "cell_type": "markdown",
      "metadata": {
        "id": "ld5NqmWwHyuh"
      },
      "source": [
        "#### 1.1 Create an empty list with the name ‘a’, print the value of a and type(a).\n"
      ],
      "id": "ld5NqmWwHyuh"
    },
    {
      "cell_type": "code",
      "metadata": {
        "id": "fZ4hVpY8Hyui"
      },
      "source": [
        "# create empty list, name it 'a'\n",
        "a = []"
      ],
      "id": "fZ4hVpY8Hyui",
      "execution_count": 1,
      "outputs": []
    },
    {
      "cell_type": "code",
      "metadata": {
        "id": "7mzNxlipHyuj",
        "outputId": "c986935a-b70d-4116-ba91-1d4d9cb4823d"
      },
      "source": [
        "# print the value of a\n",
        "print(a)\n"
      ],
      "id": "7mzNxlipHyuj",
      "execution_count": null,
      "outputs": [
        {
          "name": "stdout",
          "output_type": "stream",
          "text": [
            "[]\n"
          ]
        }
      ]
    },
    {
      "cell_type": "code",
      "metadata": {
        "colab": {
          "base_uri": "https://localhost:8080/"
        },
        "id": "5jgnXCweHyul",
        "outputId": "c5634bd2-09ac-44b4-b8cc-46c3a6c7a316"
      },
      "source": [
        "# print the type of a\n",
        "type(a)\n"
      ],
      "id": "5jgnXCweHyul",
      "execution_count": 2,
      "outputs": [
        {
          "output_type": "execute_result",
          "data": {
            "text/plain": [
              "list"
            ]
          },
          "metadata": {},
          "execution_count": 2
        }
      ]
    },
    {
      "cell_type": "markdown",
      "metadata": {
        "id": "gLOXQVFVHyul"
      },
      "source": [
        "#### 1.2.Create a list , languages = ['R','Python', 'SAS', 'Scala', 42], "
      ],
      "id": "gLOXQVFVHyul"
    },
    {
      "cell_type": "markdown",
      "metadata": {
        "id": "qzeHrpOEHyum"
      },
      "source": [
        "<p style='text-align: right;'> 1+1+1+1+1+1+1+1 = 7 points</p>\n"
      ],
      "id": "qzeHrpOEHyum"
    },
    {
      "cell_type": "code",
      "metadata": {
        "id": "Gcf75EPxHyun"
      },
      "source": [
        "#code here\n",
        "languages = ['R','Python', 'SAS', 'Scala', 42]"
      ],
      "id": "Gcf75EPxHyun",
      "execution_count": 22,
      "outputs": []
    },
    {
      "cell_type": "markdown",
      "metadata": {
        "id": "8K1Fy5DQHyun"
      },
      "source": [
        "Print the number of elements in the list"
      ],
      "id": "8K1Fy5DQHyun"
    },
    {
      "cell_type": "code",
      "metadata": {
        "colab": {
          "base_uri": "https://localhost:8080/"
        },
        "id": "22kOvu15Hyuo",
        "outputId": "54500a94-ed1d-408c-e970-8ec77bc6f06e"
      },
      "source": [
        "#code here\n",
        "len(languages)"
      ],
      "id": "22kOvu15Hyuo",
      "execution_count": 9,
      "outputs": [
        {
          "output_type": "execute_result",
          "data": {
            "text/plain": [
              "5"
            ]
          },
          "metadata": {},
          "execution_count": 9
        }
      ]
    },
    {
      "cell_type": "markdown",
      "metadata": {
        "id": "g7xj0qbVHyuo"
      },
      "source": [
        "Using for loop iterate and print all the elements in the list"
      ],
      "id": "g7xj0qbVHyuo"
    },
    {
      "cell_type": "code",
      "metadata": {
        "colab": {
          "base_uri": "https://localhost:8080/"
        },
        "id": "VrL1Z8RtHyuo",
        "outputId": "cac80879-f4e7-4a12-b7e9-600e5af8590b"
      },
      "source": [
        "#code here\n",
        "for lang in languages:\n",
        "  print(lang)\n"
      ],
      "id": "VrL1Z8RtHyuo",
      "execution_count": 10,
      "outputs": [
        {
          "output_type": "stream",
          "name": "stdout",
          "text": [
            "R\n",
            "Python\n",
            "SAS\n",
            "Scala\n",
            "42\n"
          ]
        }
      ]
    },
    {
      "cell_type": "markdown",
      "metadata": {
        "id": "2eDeoLDUHyup"
      },
      "source": [
        "Select the second item, 'Python' and store it in a new variable named 'temp'"
      ],
      "id": "2eDeoLDUHyup"
    },
    {
      "cell_type": "code",
      "metadata": {
        "id": "ScPDn9KqHyup"
      },
      "source": [
        "#code here\n",
        "temp = languages[1]"
      ],
      "id": "ScPDn9KqHyup",
      "execution_count": 11,
      "outputs": []
    },
    {
      "cell_type": "markdown",
      "metadata": {
        "id": "Mu-c9Z0pHyup"
      },
      "source": [
        "Print the value of temp and type(temp)"
      ],
      "id": "Mu-c9Z0pHyup"
    },
    {
      "cell_type": "code",
      "metadata": {
        "colab": {
          "base_uri": "https://localhost:8080/"
        },
        "id": "ROMufHOOHyuq",
        "outputId": "7d910e9d-b13f-4355-b787-62d1e96bf5b4"
      },
      "source": [
        "#code here\n",
        "print(temp)\n",
        "print(type(temp))\n"
      ],
      "id": "ROMufHOOHyuq",
      "execution_count": 12,
      "outputs": [
        {
          "output_type": "stream",
          "name": "stdout",
          "text": [
            "Python\n",
            "<class 'str'>\n"
          ]
        }
      ]
    },
    {
      "cell_type": "markdown",
      "metadata": {
        "id": "ta3ka1fcHyuq"
      },
      "source": [
        "Using list comprehension, print the last two elemets of list"
      ],
      "id": "ta3ka1fcHyuq"
    },
    {
      "cell_type": "code",
      "metadata": {
        "colab": {
          "base_uri": "https://localhost:8080/"
        },
        "id": "LS30sabGHyuq",
        "outputId": "037eb727-ffcf-4eb2-b0a1-d852185f1038"
      },
      "source": [
        "# code here\n",
        "print([items for items in languages[-2:]])"
      ],
      "id": "LS30sabGHyuq",
      "execution_count": 14,
      "outputs": [
        {
          "output_type": "stream",
          "name": "stdout",
          "text": [
            "['Scala', 42]\n"
          ]
        }
      ]
    },
    {
      "cell_type": "markdown",
      "metadata": {
        "id": "CUjQdjAvHyur"
      },
      "source": [
        "Append the element 'Java' in the list"
      ],
      "id": "CUjQdjAvHyur"
    },
    {
      "cell_type": "code",
      "metadata": {
        "colab": {
          "base_uri": "https://localhost:8080/"
        },
        "id": "hQE3TDDIHyur",
        "outputId": "0a653e5d-a3a0-4567-a9bc-c178737e9096"
      },
      "source": [
        "#code here\n",
        "languages.append('Java')\n",
        "languages"
      ],
      "id": "hQE3TDDIHyur",
      "execution_count": 23,
      "outputs": [
        {
          "output_type": "execute_result",
          "data": {
            "text/plain": [
              "['R', 'Python', 'SAS', 'Scala', 42, 'Java']"
            ]
          },
          "metadata": {},
          "execution_count": 23
        }
      ]
    },
    {
      "cell_type": "markdown",
      "metadata": {
        "id": "54fssI5ZHyur"
      },
      "source": [
        "Remove the element 42 from the list and print the list"
      ],
      "id": "54fssI5ZHyur"
    },
    {
      "cell_type": "code",
      "metadata": {
        "colab": {
          "base_uri": "https://localhost:8080/"
        },
        "id": "WllXKSAfHyur",
        "outputId": "95460a35-c943-40f6-b156-b89b148b9f72"
      },
      "source": [
        "#code here\n",
        "languages.remove(42)\n",
        "print(languages)"
      ],
      "id": "WllXKSAfHyur",
      "execution_count": 24,
      "outputs": [
        {
          "output_type": "stream",
          "name": "stdout",
          "text": [
            "['R', 'Python', 'SAS', 'Scala', 'Java']\n"
          ]
        }
      ]
    },
    {
      "cell_type": "markdown",
      "metadata": {
        "id": "kvxbglF5Hyus"
      },
      "source": [
        "#### 1.3. Create a list, colors = [‘Red’, ‘Blue’, ‘White’]"
      ],
      "id": "kvxbglF5Hyus"
    },
    {
      "cell_type": "markdown",
      "metadata": {
        "id": "urvUGwsbHyus"
      },
      "source": [
        "<p style='text-align: right;'> 1+1+1+1+1+1+1 = 6 points</p>\n"
      ],
      "id": "urvUGwsbHyus"
    },
    {
      "cell_type": "code",
      "metadata": {
        "id": "SU_8HXc2Hyus"
      },
      "source": [
        "#code here\n",
        "colors = ['Red', 'Blue', 'White']"
      ],
      "id": "SU_8HXc2Hyus",
      "execution_count": 25,
      "outputs": []
    },
    {
      "cell_type": "markdown",
      "metadata": {
        "id": "8j5gVmabHyus"
      },
      "source": [
        "Append the element 'Black' to colors"
      ],
      "id": "8j5gVmabHyus"
    },
    {
      "cell_type": "code",
      "metadata": {
        "id": "QD0zWwDNHyut"
      },
      "source": [
        "#code here\n",
        "colors.append('Black')"
      ],
      "id": "QD0zWwDNHyut",
      "execution_count": 26,
      "outputs": []
    },
    {
      "cell_type": "markdown",
      "metadata": {
        "id": "4wSWfUUjHyut"
      },
      "source": [
        "Append the color 'Orange' to second position (index=1) and print the list"
      ],
      "id": "4wSWfUUjHyut"
    },
    {
      "cell_type": "code",
      "metadata": {
        "id": "IKYM_owrHyut"
      },
      "source": [
        "# code here\n",
        "colors.insert(1,'Orange')"
      ],
      "id": "IKYM_owrHyut",
      "execution_count": 27,
      "outputs": []
    },
    {
      "cell_type": "markdown",
      "metadata": {
        "id": "kWgyM8MBHyut"
      },
      "source": [
        "Print the list\n"
      ],
      "id": "kWgyM8MBHyut"
    },
    {
      "cell_type": "code",
      "metadata": {
        "colab": {
          "base_uri": "https://localhost:8080/"
        },
        "id": "DloCeza3Hyut",
        "outputId": "c92c45b6-651a-4db2-e38a-b46efe8564a3"
      },
      "source": [
        "# code here\n",
        "print(colors)"
      ],
      "id": "DloCeza3Hyut",
      "execution_count": 28,
      "outputs": [
        {
          "output_type": "stream",
          "name": "stdout",
          "text": [
            "['Red', 'Orange', 'Blue', 'White', 'Black']\n"
          ]
        }
      ]
    },
    {
      "cell_type": "markdown",
      "metadata": {
        "id": "z78S507dHyut"
      },
      "source": [
        "Create another list, colors2 = [‘Grey’, ‘Sky Blue’]"
      ],
      "id": "z78S507dHyut"
    },
    {
      "cell_type": "code",
      "metadata": {
        "id": "ZCCCOhI_Hyuu"
      },
      "source": [
        "# code here\n",
        "colors2 = ['Grey','Sky','Black']"
      ],
      "id": "ZCCCOhI_Hyuu",
      "execution_count": 29,
      "outputs": []
    },
    {
      "cell_type": "markdown",
      "metadata": {
        "id": "_Cd-tjTmHyuu"
      },
      "source": [
        "Add the elements of colors2 to colors using extend function in the list"
      ],
      "id": "_Cd-tjTmHyuu"
    },
    {
      "cell_type": "code",
      "metadata": {
        "id": "Ew9JqC2-Hyuu"
      },
      "source": [
        "#code here\n",
        "colors.extend(colors2)"
      ],
      "id": "Ew9JqC2-Hyuu",
      "execution_count": 30,
      "outputs": []
    },
    {
      "cell_type": "markdown",
      "metadata": {
        "id": "dMt9J60tHyuu"
      },
      "source": [
        "Print len of colors and its elements"
      ],
      "id": "dMt9J60tHyuu"
    },
    {
      "cell_type": "code",
      "metadata": {
        "colab": {
          "base_uri": "https://localhost:8080/"
        },
        "id": "CNev5O8GHyuu",
        "outputId": "9d690dc5-f7ad-4bd0-ea90-2d1fba7947c5"
      },
      "source": [
        "# code here\n",
        "print(len(colors))\n",
        "print(colors)\n"
      ],
      "id": "CNev5O8GHyuu",
      "execution_count": 31,
      "outputs": [
        {
          "output_type": "stream",
          "name": "stdout",
          "text": [
            "8\n",
            "['Red', 'Orange', 'Blue', 'White', 'Black', 'Grey', 'Sky', 'Black']\n"
          ]
        }
      ]
    },
    {
      "cell_type": "markdown",
      "metadata": {
        "id": "1BRizwNUHyuv"
      },
      "source": [
        "Sort the list and print it."
      ],
      "id": "1BRizwNUHyuv"
    },
    {
      "cell_type": "code",
      "metadata": {
        "colab": {
          "base_uri": "https://localhost:8080/"
        },
        "id": "XHX1njyqHyuv",
        "outputId": "c256d43a-ffc3-41ae-d916-04f29a6f3f96"
      },
      "source": [
        "# code here\n",
        "sorted(colors)\n"
      ],
      "id": "XHX1njyqHyuv",
      "execution_count": 32,
      "outputs": [
        {
          "output_type": "execute_result",
          "data": {
            "text/plain": [
              "['Black', 'Black', 'Blue', 'Grey', 'Orange', 'Red', 'Sky', 'White']"
            ]
          },
          "metadata": {},
          "execution_count": 32
        }
      ]
    },
    {
      "cell_type": "markdown",
      "metadata": {
        "id": "a1ZWGrD4Hyuv"
      },
      "source": [
        "#### 1.4. Create a string, sent = ‘Coronavirus Caused Lockdowns Around The World.”"
      ],
      "id": "a1ZWGrD4Hyuv"
    },
    {
      "cell_type": "markdown",
      "metadata": {
        "id": "6gN6rLuHHyuv"
      },
      "source": [
        "<p style='text-align: right;'> 7 points</p>\n"
      ],
      "id": "6gN6rLuHHyuv"
    },
    {
      "cell_type": "code",
      "metadata": {
        "id": "6TM32YOuHyuw"
      },
      "source": [
        "# code here\n",
        "sent = 'Coronavirus Caused Lockdowns Around The World.'"
      ],
      "id": "6TM32YOuHyuw",
      "execution_count": 44,
      "outputs": []
    },
    {
      "cell_type": "markdown",
      "metadata": {
        "id": "4KrdCquBHyuw"
      },
      "source": [
        "Use split function to convert the string into a list of words and save it in variable words and print the same"
      ],
      "id": "4KrdCquBHyuw"
    },
    {
      "cell_type": "code",
      "metadata": {
        "colab": {
          "base_uri": "https://localhost:8080/"
        },
        "id": "hvM03rJaHyuw",
        "outputId": "9accf350-3298-4291-8e89-2bc0a8ef475e"
      },
      "source": [
        "# code here\n",
        "split_words = sent.split(\" \")\n",
        "split_words"
      ],
      "id": "hvM03rJaHyuw",
      "execution_count": 39,
      "outputs": [
        {
          "output_type": "execute_result",
          "data": {
            "text/plain": [
              "['Coronavirus', 'Caused', 'Lockdowns', 'Around', 'The', 'World.']"
            ]
          },
          "metadata": {},
          "execution_count": 39
        }
      ]
    },
    {
      "cell_type": "markdown",
      "metadata": {
        "id": "VXsg4BvfHyuw"
      },
      "source": [
        "Using list comprehensions, convert each word in the list to lower case and store it in variable words_lower. \n",
        "Print words_lower"
      ],
      "id": "VXsg4BvfHyuw"
    },
    {
      "cell_type": "code",
      "metadata": {
        "colab": {
          "base_uri": "https://localhost:8080/"
        },
        "id": "sdz8uTt_Hyuw",
        "outputId": "326780d5-e2e6-46ed-db6b-72c411a8f885"
      },
      "source": [
        "# code here\n",
        "words_lower = [word.lower() for word in split_words]\n",
        "print(words_lower)"
      ],
      "id": "sdz8uTt_Hyuw",
      "execution_count": 45,
      "outputs": [
        {
          "output_type": "stream",
          "name": "stdout",
          "text": [
            "['coronavirus', 'caused', 'lockdowns', 'around', 'the', 'world.']\n"
          ]
        }
      ]
    },
    {
      "cell_type": "markdown",
      "metadata": {
        "id": "gcZXYEiqHyuw"
      },
      "source": [
        "Check whether ‘country’ is in the list"
      ],
      "id": "gcZXYEiqHyuw"
    },
    {
      "cell_type": "code",
      "metadata": {
        "colab": {
          "base_uri": "https://localhost:8080/"
        },
        "id": "gd9PqCBjHyux",
        "outputId": "c6d0dc11-63a4-4da9-82a6-810d3372e957"
      },
      "source": [
        "# code here\n",
        "'country' in words_lower"
      ],
      "id": "gd9PqCBjHyux",
      "execution_count": 46,
      "outputs": [
        {
          "output_type": "execute_result",
          "data": {
            "text/plain": [
              "False"
            ]
          },
          "metadata": {},
          "execution_count": 46
        }
      ]
    },
    {
      "cell_type": "markdown",
      "metadata": {
        "id": "zp9cupkhHyux"
      },
      "source": [
        "Remove the element ‘the’ from the list and print the list."
      ],
      "id": "zp9cupkhHyux"
    },
    {
      "cell_type": "code",
      "metadata": {
        "colab": {
          "base_uri": "https://localhost:8080/"
        },
        "id": "3RLc7NVbHyux",
        "outputId": "1f547a40-156e-4d42-ac97-31124759cfbe"
      },
      "source": [
        "# code here\n",
        "words_lower.remove('the')\n",
        "print(words_lower)"
      ],
      "id": "3RLc7NVbHyux",
      "execution_count": 47,
      "outputs": [
        {
          "output_type": "stream",
          "name": "stdout",
          "text": [
            "['coronavirus', 'caused', 'lockdowns', 'around', 'world.']\n"
          ]
        }
      ]
    },
    {
      "cell_type": "markdown",
      "metadata": {
        "id": "ApjmBBM6Hyux"
      },
      "source": [
        "Select the first 4 words from the list words_lower using slicing and store them in a new variable x4"
      ],
      "id": "ApjmBBM6Hyux"
    },
    {
      "cell_type": "code",
      "metadata": {
        "id": "ZsW2QexZHyux"
      },
      "source": [
        "#code here\n",
        "x4 = words_lower[:4]"
      ],
      "id": "ZsW2QexZHyux",
      "execution_count": 50,
      "outputs": []
    },
    {
      "cell_type": "code",
      "metadata": {
        "colab": {
          "base_uri": "https://localhost:8080/"
        },
        "id": "t5SekhC5Hyux",
        "outputId": "ce54deaa-8b5e-4450-a3d3-936b949185e1"
      },
      "source": [
        "# print x4\n",
        "print(x4)"
      ],
      "id": "t5SekhC5Hyux",
      "execution_count": 51,
      "outputs": [
        {
          "output_type": "stream",
          "name": "stdout",
          "text": [
            "['coronavirus', 'caused', 'lockdowns', 'around']\n"
          ]
        }
      ]
    },
    {
      "cell_type": "markdown",
      "metadata": {
        "id": "cJMZyf4wHyuy"
      },
      "source": [
        "Convert the list of elements to single string using join function and print it"
      ],
      "id": "cJMZyf4wHyuy"
    },
    {
      "cell_type": "code",
      "metadata": {
        "colab": {
          "base_uri": "https://localhost:8080/",
          "height": 35
        },
        "id": "Lc7LaOs7Hyuy",
        "outputId": "39b908ad-ee9b-4667-f80b-54a93957923e"
      },
      "source": [
        "#code here\n",
        "\" \".join(x4)"
      ],
      "id": "Lc7LaOs7Hyuy",
      "execution_count": 53,
      "outputs": [
        {
          "output_type": "execute_result",
          "data": {
            "application/vnd.google.colaboratory.intrinsic+json": {
              "type": "string"
            },
            "text/plain": [
              "'coronavirus caused lockdowns around'"
            ]
          },
          "metadata": {},
          "execution_count": 53
        }
      ]
    },
    {
      "cell_type": "markdown",
      "metadata": {
        "id": "biD9nhBaHyuy"
      },
      "source": [
        "## 2. Sets\n",
        "\n",
        "Reference:-https://www.youtube.com/watch?v=sBvaPopWOmQ"
      ],
      "id": "biD9nhBaHyuy"
    },
    {
      "cell_type": "markdown",
      "metadata": {
        "id": "FHJC0c8_Hyuy"
      },
      "source": [
        "#### 2.1. Create stud_grades = ['A','A','B','C','C','F']"
      ],
      "id": "FHJC0c8_Hyuy"
    },
    {
      "cell_type": "markdown",
      "metadata": {
        "id": "HYup4xVAHyuy"
      },
      "source": [
        "<p style='text-align: right;'> 7 points</p>\n"
      ],
      "id": "HYup4xVAHyuy"
    },
    {
      "cell_type": "code",
      "metadata": {
        "id": "uBwev_2gHyuz"
      },
      "source": [
        "#code here\n",
        "stud_grades = ['A','A','B','C','C','F']"
      ],
      "id": "uBwev_2gHyuz",
      "execution_count": 54,
      "outputs": []
    },
    {
      "cell_type": "markdown",
      "metadata": {
        "id": "3BUYLUAJHyuz"
      },
      "source": [
        "Print the len of stud_grades"
      ],
      "id": "3BUYLUAJHyuz"
    },
    {
      "cell_type": "code",
      "metadata": {
        "id": "WvBM5KNHHyuz",
        "outputId": "e2cddb76-4c0e-4ac1-eaf5-55787cecc8b5"
      },
      "source": [
        "#code here\n",
        "len(stud_grades)"
      ],
      "id": "WvBM5KNHHyuz",
      "execution_count": null,
      "outputs": [
        {
          "name": "stdout",
          "output_type": "stream",
          "text": [
            "6\n"
          ]
        }
      ]
    },
    {
      "cell_type": "markdown",
      "metadata": {
        "id": "U-piG0ehHyuz"
      },
      "source": [
        "Create a new variable, stud_grades_set = set(stud_grades)"
      ],
      "id": "U-piG0ehHyuz"
    },
    {
      "cell_type": "code",
      "metadata": {
        "id": "zlCrakqwHyuz"
      },
      "source": [
        "#code here\n",
        "stud_grades_set = set(stud_grades)"
      ],
      "id": "zlCrakqwHyuz",
      "execution_count": 55,
      "outputs": []
    },
    {
      "cell_type": "markdown",
      "metadata": {
        "id": "KrwKpC47Hyu0"
      },
      "source": [
        "Print stud_grades_set. "
      ],
      "id": "KrwKpC47Hyu0"
    },
    {
      "cell_type": "code",
      "metadata": {
        "colab": {
          "base_uri": "https://localhost:8080/"
        },
        "id": "AkAXuClVHyu0",
        "outputId": "52a5c1b3-f21a-467b-cf2a-6ab6a80e80d1"
      },
      "source": [
        "#code here\n",
        "print(stud_grades_set)"
      ],
      "id": "AkAXuClVHyu0",
      "execution_count": 57,
      "outputs": [
        {
          "output_type": "stream",
          "name": "stdout",
          "text": [
            "{'A', 'B', 'C', 'F'}\n"
          ]
        }
      ]
    },
    {
      "cell_type": "markdown",
      "metadata": {
        "id": "n0y0Jea9Hyu0"
      },
      "source": [
        "print the type of stud_grades and stud_grades_set and print their corresponding elements. Try to understand the difference between them."
      ],
      "id": "n0y0Jea9Hyu0"
    },
    {
      "cell_type": "code",
      "metadata": {
        "colab": {
          "base_uri": "https://localhost:8080/"
        },
        "id": "lgwxuz3cHyu0",
        "outputId": "848bc239-eaa0-4e58-f004-6dee6df92f1e"
      },
      "source": [
        "#code here\n",
        "print(f'{type(stud_grades)} {stud_grades}')\n",
        "print(f'{type(stud_grades_set)} {stud_grades_set}')\n"
      ],
      "id": "lgwxuz3cHyu0",
      "execution_count": 59,
      "outputs": [
        {
          "output_type": "stream",
          "name": "stdout",
          "text": [
            "<class 'list'> ['A', 'A', 'B', 'C', 'C', 'F']\n",
            "<class 'set'> {'A', 'B', 'C', 'F'}\n"
          ]
        }
      ]
    },
    {
      "cell_type": "markdown",
      "metadata": {
        "id": "lHsrqRo6Hyu0"
      },
      "source": [
        "Add a new element ‘G’ to stud_grades_set"
      ],
      "id": "lHsrqRo6Hyu0"
    },
    {
      "cell_type": "code",
      "metadata": {
        "id": "Dgzapa3-Hyu0"
      },
      "source": [
        "#code here\n",
        "stud_grades_set.add('G')\n"
      ],
      "id": "Dgzapa3-Hyu0",
      "execution_count": 60,
      "outputs": []
    },
    {
      "cell_type": "markdown",
      "metadata": {
        "id": "JofjiFCqHyu1"
      },
      "source": [
        "Add element 'F' to stud_grades_set. and print it."
      ],
      "id": "JofjiFCqHyu1"
    },
    {
      "cell_type": "code",
      "metadata": {
        "colab": {
          "base_uri": "https://localhost:8080/"
        },
        "id": "NGH3ii03Hyu1",
        "outputId": "776ba462-75e8-485c-c0f2-f4abb627f0bb"
      },
      "source": [
        "#code here\n",
        "stud_grades_set.add('F')\n",
        "print(stud_grades_set)\n"
      ],
      "id": "NGH3ii03Hyu1",
      "execution_count": 61,
      "outputs": [
        {
          "output_type": "stream",
          "name": "stdout",
          "text": [
            "{'A', 'B', 'C', 'F', 'G'}\n"
          ]
        }
      ]
    },
    {
      "cell_type": "markdown",
      "metadata": {
        "id": "iFJu9DS1Hyu1"
      },
      "source": [
        "!!Did you notice? set doesn't add an element if it's already present in it, unlike lists."
      ],
      "id": "iFJu9DS1Hyu1"
    },
    {
      "cell_type": "markdown",
      "metadata": {
        "id": "VNkcXC1mHyu1"
      },
      "source": [
        "Remove ‘F’ from stud_grades_set"
      ],
      "id": "VNkcXC1mHyu1"
    },
    {
      "cell_type": "code",
      "metadata": {
        "id": "tgXmMK9BHyu1"
      },
      "source": [
        "#code here\n",
        "stud_grades_set.remove('F')\n"
      ],
      "id": "tgXmMK9BHyu1",
      "execution_count": 62,
      "outputs": []
    },
    {
      "cell_type": "markdown",
      "metadata": {
        "id": "MeaYpiTWHyu1"
      },
      "source": [
        "Print the elements and the length of stud_grades_set"
      ],
      "id": "MeaYpiTWHyu1"
    },
    {
      "cell_type": "code",
      "metadata": {
        "colab": {
          "base_uri": "https://localhost:8080/"
        },
        "id": "DMYwe4KJHyu2",
        "outputId": "729c1aae-15db-4e3b-ad39-4b7162c97253"
      },
      "source": [
        "#code here\n",
        "print(stud_grades_set)\n",
        "print(len(stud_grades_set))\n"
      ],
      "id": "DMYwe4KJHyu2",
      "execution_count": 63,
      "outputs": [
        {
          "output_type": "stream",
          "name": "stdout",
          "text": [
            "{'A', 'B', 'C', 'G'}\n",
            "4\n"
          ]
        }
      ]
    },
    {
      "cell_type": "markdown",
      "metadata": {
        "id": "LGjkOJPEHyu2"
      },
      "source": [
        "#### 2.2. Create colors = [‘red’,’blue’,’orange’], and fruits = [‘orange’,’grapes’,’apples’] "
      ],
      "id": "LGjkOJPEHyu2"
    },
    {
      "cell_type": "markdown",
      "metadata": {
        "id": "QOqwUF62Hyu2"
      },
      "source": [
        "<p style='text-align: right;'> 6 points</p>\n"
      ],
      "id": "QOqwUF62Hyu2"
    },
    {
      "cell_type": "code",
      "metadata": {
        "id": "RoJrqBujHyu2"
      },
      "source": [
        "#code here\n",
        "colors = ['red','blue','orange']\n",
        "fruits = ['orange','grapes','apples']\n"
      ],
      "id": "RoJrqBujHyu2",
      "execution_count": 64,
      "outputs": []
    },
    {
      "cell_type": "markdown",
      "metadata": {
        "id": "_zXbyJ5dHyu2"
      },
      "source": [
        "Print color and fruits"
      ],
      "id": "_zXbyJ5dHyu2"
    },
    {
      "cell_type": "code",
      "metadata": {
        "colab": {
          "base_uri": "https://localhost:8080/"
        },
        "id": "DY6cNZ54Hyu2",
        "outputId": "a4df6f70-6a50-4445-bf11-74f63f4a8b45"
      },
      "source": [
        "#code here\n",
        "print(colors)\n",
        "print(fruits)"
      ],
      "id": "DY6cNZ54Hyu2",
      "execution_count": 65,
      "outputs": [
        {
          "output_type": "stream",
          "name": "stdout",
          "text": [
            "['red', 'blue', 'orange']\n",
            "['orange', 'grapes', 'apples']\n"
          ]
        }
      ]
    },
    {
      "cell_type": "markdown",
      "metadata": {
        "id": "y2w1exmJHyu2"
      },
      "source": [
        "Create colors_set, and fruits_set. (using set() ) and print them"
      ],
      "id": "y2w1exmJHyu2"
    },
    {
      "cell_type": "code",
      "metadata": {
        "colab": {
          "base_uri": "https://localhost:8080/"
        },
        "id": "ksxRvejzHyu2",
        "outputId": "ce40e46b-08d3-4e27-c7b6-932d16e46691"
      },
      "source": [
        "#code here\n",
        "colors_set = set(['red','blue','orange'])\n",
        "fruits_set = set(['orange','grapes','apples'])\n",
        "print(colors_set)\n",
        "print(fruits_set)\n"
      ],
      "id": "ksxRvejzHyu2",
      "execution_count": 66,
      "outputs": [
        {
          "output_type": "stream",
          "name": "stdout",
          "text": [
            "{'red', 'blue', 'orange'}\n",
            "{'grapes', 'apples', 'orange'}\n"
          ]
        }
      ]
    },
    {
      "cell_type": "markdown",
      "metadata": {
        "id": "56zKpDZNHyu3"
      },
      "source": [
        "Find the union of both the sets."
      ],
      "id": "56zKpDZNHyu3"
    },
    {
      "cell_type": "code",
      "metadata": {
        "colab": {
          "base_uri": "https://localhost:8080/"
        },
        "id": "_i_BGPPfHyu3",
        "outputId": "02597661-c983-42ef-9af2-a5729f5fb968"
      },
      "source": [
        "#code here\n",
        "fruits_set.union(colors_set)\n"
      ],
      "id": "_i_BGPPfHyu3",
      "execution_count": 67,
      "outputs": [
        {
          "output_type": "execute_result",
          "data": {
            "text/plain": [
              "{'apples', 'blue', 'grapes', 'orange', 'red'}"
            ]
          },
          "metadata": {},
          "execution_count": 67
        }
      ]
    },
    {
      "cell_type": "markdown",
      "metadata": {
        "id": "s_oILlk1Hyu3"
      },
      "source": [
        "Find the intersection of both the sets "
      ],
      "id": "s_oILlk1Hyu3"
    },
    {
      "cell_type": "code",
      "metadata": {
        "colab": {
          "base_uri": "https://localhost:8080/"
        },
        "id": "uu_QwKAfHyu3",
        "outputId": "37ccc728-eb65-467a-eaf3-1e65ba1112bd"
      },
      "source": [
        "#code here\n",
        "fruits_set.intersection(colors_set)\n"
      ],
      "id": "uu_QwKAfHyu3",
      "execution_count": 68,
      "outputs": [
        {
          "output_type": "execute_result",
          "data": {
            "text/plain": [
              "{'orange'}"
            ]
          },
          "metadata": {},
          "execution_count": 68
        }
      ]
    },
    {
      "cell_type": "markdown",
      "metadata": {
        "id": "3AiFbliYHyu3"
      },
      "source": [
        "Find the elements which are Fruits but not colors (using set.difference() )"
      ],
      "id": "3AiFbliYHyu3"
    },
    {
      "cell_type": "code",
      "metadata": {
        "colab": {
          "base_uri": "https://localhost:8080/"
        },
        "id": "5GMwP_IIHyu3",
        "outputId": "de1bba4f-21b1-49ff-ab57-aaa56ce01440"
      },
      "source": [
        "#code here\n",
        "fruits_set.difference(colors_set)\n"
      ],
      "id": "5GMwP_IIHyu3",
      "execution_count": 69,
      "outputs": [
        {
          "output_type": "execute_result",
          "data": {
            "text/plain": [
              "{'apples', 'grapes'}"
            ]
          },
          "metadata": {},
          "execution_count": 69
        }
      ]
    },
    {
      "cell_type": "markdown",
      "metadata": {
        "id": "eU6IBJCaHyu4"
      },
      "source": [
        "## 3. TUPLES\n",
        "\n",
        "Reference:-https://www.youtube.com/watch?v=NI26dqhs2Rk"
      ],
      "id": "eU6IBJCaHyu4"
    },
    {
      "cell_type": "markdown",
      "metadata": {
        "id": "F-xkp4tGHyu4"
      },
      "source": [
        "#### 3.1 . Create temp = [17, ’Virat’, 50.0]"
      ],
      "id": "F-xkp4tGHyu4"
    },
    {
      "cell_type": "markdown",
      "metadata": {
        "id": "c5OR4TvyHyu4"
      },
      "source": [
        "<p style='text-align: right;'> 7 points</p>\n"
      ],
      "id": "c5OR4TvyHyu4"
    },
    {
      "cell_type": "code",
      "metadata": {
        "id": "o7YtIzwcHyu4"
      },
      "source": [
        "#code here\n",
        "temp = [17, 'Virat', 50.0]\n",
        "\n"
      ],
      "id": "o7YtIzwcHyu4",
      "execution_count": 70,
      "outputs": []
    },
    {
      "cell_type": "markdown",
      "metadata": {
        "id": "69GyoRF5Hyu4"
      },
      "source": [
        "Iterate through temp and print all the items in temp"
      ],
      "id": "69GyoRF5Hyu4"
    },
    {
      "cell_type": "code",
      "metadata": {
        "colab": {
          "base_uri": "https://localhost:8080/"
        },
        "id": "Qy0J7z_nHyu4",
        "outputId": "99cd080d-8df4-4465-fb34-afcbfa7de5fa"
      },
      "source": [
        "#code here\n",
        "for items in temp:\n",
        "  print(items)\n",
        "\n"
      ],
      "id": "Qy0J7z_nHyu4",
      "execution_count": 71,
      "outputs": [
        {
          "output_type": "stream",
          "name": "stdout",
          "text": [
            "17\n",
            "Virat\n",
            "50.0\n"
          ]
        }
      ]
    },
    {
      "cell_type": "markdown",
      "metadata": {
        "id": "3xr29YiHHyu4"
      },
      "source": [
        "replace first element with 11 in temp"
      ],
      "id": "3xr29YiHHyu4"
    },
    {
      "cell_type": "code",
      "metadata": {
        "id": "WWmJHciiHyu4"
      },
      "source": [
        "#code here\n",
        "temp[0] = 11\n"
      ],
      "id": "WWmJHciiHyu4",
      "execution_count": 72,
      "outputs": []
    },
    {
      "cell_type": "markdown",
      "metadata": {
        "id": "rYgRCu2uHyu5"
      },
      "source": [
        "Set temp1 = tuple(temp)"
      ],
      "id": "rYgRCu2uHyu5"
    },
    {
      "cell_type": "code",
      "metadata": {
        "id": "rCljY5L6Hyu5"
      },
      "source": [
        "#code here\n",
        "temp1 =tuple(temp)\n"
      ],
      "id": "rCljY5L6Hyu5",
      "execution_count": 73,
      "outputs": []
    },
    {
      "cell_type": "markdown",
      "metadata": {
        "id": "FAOSFWtNHyu5"
      },
      "source": [
        "Iterate through temp1 and print all the items in temp1. "
      ],
      "id": "FAOSFWtNHyu5"
    },
    {
      "cell_type": "code",
      "metadata": {
        "colab": {
          "base_uri": "https://localhost:8080/"
        },
        "id": "iFMkVDmXHyu5",
        "outputId": "782175e1-4b0b-4435-9414-8002b914ecc7"
      },
      "source": [
        "#code here\n",
        "for elements in temp1:\n",
        "  print(elements)\n"
      ],
      "id": "iFMkVDmXHyu5",
      "execution_count": 74,
      "outputs": [
        {
          "output_type": "stream",
          "name": "stdout",
          "text": [
            "11\n",
            "Virat\n",
            "50.0\n"
          ]
        }
      ]
    },
    {
      "cell_type": "markdown",
      "metadata": {
        "id": "u2flKvCPHyu6"
      },
      "source": [
        "replace first element with 17 in temp1"
      ],
      "id": "u2flKvCPHyu6"
    },
    {
      "cell_type": "code",
      "metadata": {
        "id": "JK007h7uHyu9",
        "outputId": "e6f07c06-ada2-4ac3-f3ef-525ac3b1bb6a"
      },
      "source": [
        "#code here\n",
        "\n",
        "temp1[0] = 17"
      ],
      "id": "JK007h7uHyu9",
      "execution_count": null,
      "outputs": [
        {
          "ename": "TypeError",
          "evalue": "'tuple' object does not support item assignment",
          "output_type": "error",
          "traceback": [
            "\u001b[0;31m---------------------------------------------------------------------------\u001b[0m",
            "\u001b[0;31mTypeError\u001b[0m                                 Traceback (most recent call last)",
            "\u001b[0;32m<ipython-input-107-0207b6185b0a>\u001b[0m in \u001b[0;36m<module>\u001b[0;34m\u001b[0m\n\u001b[0;32m----> 1\u001b[0;31m \u001b[0mtemp1\u001b[0m\u001b[0;34m[\u001b[0m\u001b[0;36m0\u001b[0m\u001b[0;34m]\u001b[0m \u001b[0;34m=\u001b[0m \u001b[0;36m17\u001b[0m\u001b[0;34m\u001b[0m\u001b[0;34m\u001b[0m\u001b[0m\n\u001b[0m",
            "\u001b[0;31mTypeError\u001b[0m: 'tuple' object does not support item assignment"
          ]
        }
      ]
    },
    {
      "cell_type": "markdown",
      "metadata": {
        "id": "U8oWSKP5Hyu9"
      },
      "source": [
        "<b>Oops!! You got an error. Hey Don't worry! Its because Once a tuple is created, you cannot change its values unlike list.</b>"
      ],
      "id": "U8oWSKP5Hyu9"
    },
    {
      "cell_type": "markdown",
      "metadata": {
        "id": "_3VK0NYzHyu9"
      },
      "source": [
        "#### 3.2 . Create city = (\"Bangalore\", 28.9949521, 72)"
      ],
      "id": "_3VK0NYzHyu9"
    },
    {
      "cell_type": "markdown",
      "metadata": {
        "id": "uOxHfCn_Hyu9"
      },
      "source": [
        "<p style='text-align: right;'> 6 points</p>\n"
      ],
      "id": "uOxHfCn_Hyu9"
    },
    {
      "cell_type": "code",
      "metadata": {
        "id": "dgc07HWbHyu9"
      },
      "source": [
        "#code here\n",
        "city = (\"Bangalore\", 28.9949521, 72)\n"
      ],
      "id": "dgc07HWbHyu9",
      "execution_count": 75,
      "outputs": []
    },
    {
      "cell_type": "markdown",
      "metadata": {
        "id": "HPB-9MAEHyu9"
      },
      "source": [
        "Print first element of city"
      ],
      "id": "HPB-9MAEHyu9"
    },
    {
      "cell_type": "code",
      "metadata": {
        "colab": {
          "base_uri": "https://localhost:8080/",
          "height": 35
        },
        "id": "D_qsJgHdHyu9",
        "outputId": "a72831ed-f4a2-43c1-908e-39027542ea81"
      },
      "source": [
        "#code here\n",
        "city[0]"
      ],
      "id": "D_qsJgHdHyu9",
      "execution_count": 77,
      "outputs": [
        {
          "output_type": "execute_result",
          "data": {
            "application/vnd.google.colaboratory.intrinsic+json": {
              "type": "string"
            },
            "text/plain": [
              "'Bangalore'"
            ]
          },
          "metadata": {},
          "execution_count": 77
        }
      ]
    },
    {
      "cell_type": "markdown",
      "metadata": {
        "id": "Y73Fq1GbHyu9"
      },
      "source": [
        "Create city2 = (‘Chennai’, 30.01, 74)"
      ],
      "id": "Y73Fq1GbHyu9"
    },
    {
      "cell_type": "code",
      "metadata": {
        "id": "99B2PcI9Hyu-"
      },
      "source": [
        "#code here\n",
        "city2 = ('Chennai', 30.01, 74)\n"
      ],
      "id": "99B2PcI9Hyu-",
      "execution_count": 78,
      "outputs": []
    },
    {
      "cell_type": "markdown",
      "metadata": {
        "id": "iJZoHs7MHyu-"
      },
      "source": [
        "Create cities which consist of city and city2"
      ],
      "id": "iJZoHs7MHyu-"
    },
    {
      "cell_type": "code",
      "metadata": {
        "id": "g9imVg8xHyu-"
      },
      "source": [
        "#code here\n",
        "cities = city + city2"
      ],
      "id": "g9imVg8xHyu-",
      "execution_count": 81,
      "outputs": []
    },
    {
      "cell_type": "markdown",
      "metadata": {
        "id": "DtiRV84CHyu-"
      },
      "source": [
        "Print cities"
      ],
      "id": "DtiRV84CHyu-"
    },
    {
      "cell_type": "code",
      "metadata": {
        "colab": {
          "base_uri": "https://localhost:8080/"
        },
        "id": "_kMLVpEpHyu-",
        "outputId": "0e1df0ca-58f2-4b94-f846-0a5084961fbf"
      },
      "source": [
        "#code here\n",
        "print(cities)\n"
      ],
      "id": "_kMLVpEpHyu-",
      "execution_count": 82,
      "outputs": [
        {
          "output_type": "stream",
          "name": "stdout",
          "text": [
            "('Bangalore', 28.9949521, 72, 'Chennai', 30.01, 74)\n"
          ]
        }
      ]
    },
    {
      "cell_type": "markdown",
      "metadata": {
        "id": "x9cYdyE0Hyu-"
      },
      "source": [
        "Print type of first element in cities"
      ],
      "id": "x9cYdyE0Hyu-"
    },
    {
      "cell_type": "code",
      "metadata": {
        "colab": {
          "base_uri": "https://localhost:8080/"
        },
        "id": "srKGEDL5Hyu-",
        "outputId": "ef3f0b55-2c62-4b6c-c1b1-a93344e4c504"
      },
      "source": [
        "#code here\n",
        "\n",
        "type(cities[0])"
      ],
      "id": "srKGEDL5Hyu-",
      "execution_count": 84,
      "outputs": [
        {
          "output_type": "execute_result",
          "data": {
            "text/plain": [
              "str"
            ]
          },
          "metadata": {},
          "execution_count": 84
        }
      ]
    },
    {
      "cell_type": "markdown",
      "metadata": {
        "id": "wsL86tQ3Hyu_"
      },
      "source": [
        "print the type of cities\n"
      ],
      "id": "wsL86tQ3Hyu_"
    },
    {
      "cell_type": "code",
      "metadata": {
        "colab": {
          "base_uri": "https://localhost:8080/"
        },
        "id": "V6gwhLpxHyu_",
        "outputId": "c9be6e8f-d7f9-4fce-8b44-d5cb217d0e4b"
      },
      "source": [
        "#code here\n",
        "type(cities)\n"
      ],
      "id": "V6gwhLpxHyu_",
      "execution_count": 85,
      "outputs": [
        {
          "output_type": "execute_result",
          "data": {
            "text/plain": [
              "tuple"
            ]
          },
          "metadata": {},
          "execution_count": 85
        }
      ]
    },
    {
      "cell_type": "markdown",
      "metadata": {
        "id": "oQ1Ru5AxHyu_"
      },
      "source": [
        "Hey that implies you made a nested tuples!!"
      ],
      "id": "oQ1Ru5AxHyu_"
    },
    {
      "cell_type": "markdown",
      "metadata": {
        "id": "pbN0tFlHHyu_"
      },
      "source": [
        "## 4. DICT\n",
        "\n",
        "Reference:-https://www.youtube.com/watch?v=XCcpzWs-CI4"
      ],
      "id": "pbN0tFlHHyu_"
    },
    {
      "cell_type": "markdown",
      "metadata": {
        "id": "Be58fmVqHyu_"
      },
      "source": [
        "<p style='text-align: right;'> 11 points</p>\n"
      ],
      "id": "Be58fmVqHyu_"
    },
    {
      "cell_type": "markdown",
      "metadata": {
        "id": "CdYl0-XtHyu_"
      },
      "source": [
        "#### 4.1 Create a dictionary d = {\"actor\":\"amir\",\"animal\":\"cat\",\"earth\":2,\"list\":[23,32,12]}"
      ],
      "id": "CdYl0-XtHyu_"
    },
    {
      "cell_type": "code",
      "metadata": {
        "id": "4avpcd26Hyu_"
      },
      "source": [
        "#code here\n",
        "d = {\"actor\":\"amir\",\"animal\":\"cat\",\"earth\":2,\"list\":[23,32,12]}\n"
      ],
      "id": "4avpcd26Hyu_",
      "execution_count": 86,
      "outputs": []
    },
    {
      "cell_type": "markdown",
      "metadata": {
        "id": "uYKkZOE3Hyu_"
      },
      "source": [
        "Print the value of d[0]"
      ],
      "id": "uYKkZOE3Hyu_"
    },
    {
      "cell_type": "code",
      "metadata": {
        "colab": {
          "base_uri": "https://localhost:8080/",
          "height": 178
        },
        "id": "709iWoqbHyvA",
        "outputId": "7b0c409f-7c9a-4742-ab7c-7da0b3224b7e"
      },
      "source": [
        "#code here\n",
        "d[0]\n"
      ],
      "id": "709iWoqbHyvA",
      "execution_count": 87,
      "outputs": [
        {
          "output_type": "error",
          "ename": "KeyError",
          "evalue": "ignored",
          "traceback": [
            "\u001b[0;31m---------------------------------------------------------------------------\u001b[0m",
            "\u001b[0;31mKeyError\u001b[0m                                  Traceback (most recent call last)",
            "\u001b[0;32m<ipython-input-87-a306cefea1b5>\u001b[0m in \u001b[0;36m<module>\u001b[0;34m()\u001b[0m\n\u001b[1;32m      1\u001b[0m \u001b[0;31m#code here\u001b[0m\u001b[0;34m\u001b[0m\u001b[0;34m\u001b[0m\u001b[0;34m\u001b[0m\u001b[0m\n\u001b[0;32m----> 2\u001b[0;31m \u001b[0md\u001b[0m\u001b[0;34m[\u001b[0m\u001b[0;36m0\u001b[0m\u001b[0;34m]\u001b[0m\u001b[0;34m\u001b[0m\u001b[0;34m\u001b[0m\u001b[0m\n\u001b[0m",
            "\u001b[0;31mKeyError\u001b[0m: 0"
          ]
        }
      ]
    },
    {
      "cell_type": "markdown",
      "metadata": {
        "id": "d4z3GQ00HyvA"
      },
      "source": [
        "<b>Oops!! again an error. again a fun fact. Dictionary return the value for key if key is in the dictionary, else throws KeyError\n",
        "and we don't have key 0 here :( </b>"
      ],
      "id": "d4z3GQ00HyvA"
    },
    {
      "cell_type": "markdown",
      "metadata": {
        "id": "gOOumLTdHyvA"
      },
      "source": [
        "Store the value of d[‘actor’] to a new variable actor."
      ],
      "id": "gOOumLTdHyvA"
    },
    {
      "cell_type": "code",
      "metadata": {
        "colab": {
          "base_uri": "https://localhost:8080/",
          "height": 35
        },
        "id": "i08zat7_HyvA",
        "outputId": "f0a028d2-af7e-4eb0-ba02-ebd18342d65e"
      },
      "source": [
        "#code here\n",
        "d['actor'] \n"
      ],
      "id": "i08zat7_HyvA",
      "execution_count": 88,
      "outputs": [
        {
          "output_type": "execute_result",
          "data": {
            "application/vnd.google.colaboratory.intrinsic+json": {
              "type": "string"
            },
            "text/plain": [
              "'amir'"
            ]
          },
          "metadata": {},
          "execution_count": 88
        }
      ]
    },
    {
      "cell_type": "markdown",
      "metadata": {
        "id": "3h6tHtnZHyvA"
      },
      "source": [
        "Print the type of actor"
      ],
      "id": "3h6tHtnZHyvA"
    },
    {
      "cell_type": "code",
      "metadata": {
        "colab": {
          "base_uri": "https://localhost:8080/"
        },
        "id": "h4x5Bk86HyvA",
        "outputId": "36f12c9e-43ab-4fe6-d77d-fc2efa8f5880"
      },
      "source": [
        "#code here\n",
        "type(d['actor'])\n"
      ],
      "id": "h4x5Bk86HyvA",
      "execution_count": 89,
      "outputs": [
        {
          "output_type": "execute_result",
          "data": {
            "text/plain": [
              "str"
            ]
          },
          "metadata": {},
          "execution_count": 89
        }
      ]
    },
    {
      "cell_type": "markdown",
      "metadata": {
        "id": "ENkmxayYHyvA"
      },
      "source": [
        "Store the value of d[‘list’] in new variable l. "
      ],
      "id": "ENkmxayYHyvA"
    },
    {
      "cell_type": "code",
      "metadata": {
        "id": "Had0NPC1HyvB"
      },
      "source": [
        "#code here\n",
        "l = d['list']\n"
      ],
      "id": "Had0NPC1HyvB",
      "execution_count": 91,
      "outputs": []
    },
    {
      "cell_type": "markdown",
      "metadata": {
        "id": "a4CaxlQoHyvB"
      },
      "source": [
        "Print the type of l. "
      ],
      "id": "a4CaxlQoHyvB"
    },
    {
      "cell_type": "code",
      "metadata": {
        "colab": {
          "base_uri": "https://localhost:8080/"
        },
        "id": "Asazi0P5HyvB",
        "outputId": "56a9dfc0-19b1-4a01-8121-be3f477890ae"
      },
      "source": [
        "#code here\n",
        "type(l)\n"
      ],
      "id": "Asazi0P5HyvB",
      "execution_count": 92,
      "outputs": [
        {
          "output_type": "execute_result",
          "data": {
            "text/plain": [
              "list"
            ]
          },
          "metadata": {},
          "execution_count": 92
        }
      ]
    },
    {
      "cell_type": "markdown",
      "metadata": {
        "id": "ciLRLP-LHyvB"
      },
      "source": [
        "Create d1 = { ‘singer’ : ‘Kr$na’ , ‘album’: ‘Still here’, ‘genre’ : ‘hip-hop’}"
      ],
      "id": "ciLRLP-LHyvB"
    },
    {
      "cell_type": "code",
      "metadata": {
        "id": "y6BEFwDbHyvB"
      },
      "source": [
        "#code here\n",
        "d1 = { 'singer' : 'Kr$na' , 'album': 'Still here', 'genre' : 'hip-hop'}\n"
      ],
      "id": "y6BEFwDbHyvB",
      "execution_count": 93,
      "outputs": []
    },
    {
      "cell_type": "markdown",
      "metadata": {
        "id": "IylaXUBMHyvB"
      },
      "source": [
        "Merge d1 into d."
      ],
      "id": "IylaXUBMHyvB"
    },
    {
      "cell_type": "code",
      "metadata": {
        "id": "sSrRIXgLHyvB"
      },
      "source": [
        "#code here\n",
        "d.update(d1)\n"
      ],
      "id": "sSrRIXgLHyvB",
      "execution_count": 94,
      "outputs": []
    },
    {
      "cell_type": "markdown",
      "metadata": {
        "id": "MFb7dAMZHyvB"
      },
      "source": [
        "print d"
      ],
      "id": "MFb7dAMZHyvB"
    },
    {
      "cell_type": "code",
      "metadata": {
        "colab": {
          "base_uri": "https://localhost:8080/"
        },
        "id": "9XFU8IxoHyvB",
        "outputId": "28042f4c-5bc6-48e0-f23c-c7a3a996dfec"
      },
      "source": [
        "#code here\n",
        "print(d)\n"
      ],
      "id": "9XFU8IxoHyvB",
      "execution_count": 95,
      "outputs": [
        {
          "output_type": "stream",
          "name": "stdout",
          "text": [
            "{'actor': 'amir', 'animal': 'cat', 'earth': 2, 'list': [23, 32, 12], 'singer': 'Kr$na', 'album': 'Still here', 'genre': 'hip-hop'}\n"
          ]
        }
      ]
    },
    {
      "cell_type": "markdown",
      "metadata": {
        "id": "fTjXnScvHyvB"
      },
      "source": [
        "Print all the keys in d"
      ],
      "id": "fTjXnScvHyvB"
    },
    {
      "cell_type": "code",
      "metadata": {
        "colab": {
          "base_uri": "https://localhost:8080/"
        },
        "id": "UVSoqnH8HyvC",
        "outputId": "caa44c31-99d1-4d8b-e9d9-848d4b0071b3"
      },
      "source": [
        "#code here\n",
        "d.keys()\n"
      ],
      "id": "UVSoqnH8HyvC",
      "execution_count": 96,
      "outputs": [
        {
          "output_type": "execute_result",
          "data": {
            "text/plain": [
              "dict_keys(['actor', 'animal', 'earth', 'list', 'singer', 'album', 'genre'])"
            ]
          },
          "metadata": {},
          "execution_count": 96
        }
      ]
    },
    {
      "cell_type": "markdown",
      "metadata": {
        "id": "L6InCx7yHyvC"
      },
      "source": [
        "Print all the values in d"
      ],
      "id": "L6InCx7yHyvC"
    },
    {
      "cell_type": "code",
      "metadata": {
        "colab": {
          "base_uri": "https://localhost:8080/"
        },
        "id": "JgHU723EHyvC",
        "outputId": "935bb9d6-2490-4b64-d8d6-52955ebd67a3"
      },
      "source": [
        "#code here\n",
        "d.values()\n"
      ],
      "id": "JgHU723EHyvC",
      "execution_count": 97,
      "outputs": [
        {
          "output_type": "execute_result",
          "data": {
            "text/plain": [
              "dict_values(['amir', 'cat', 2, [23, 32, 12], 'Kr$na', 'Still here', 'hip-hop'])"
            ]
          },
          "metadata": {},
          "execution_count": 97
        }
      ]
    },
    {
      "cell_type": "markdown",
      "metadata": {
        "id": "ADlaB8dAHyvC"
      },
      "source": [
        "Iterate over d, and print each key, value pair as given in output"
      ],
      "id": "ADlaB8dAHyvC"
    },
    {
      "cell_type": "code",
      "metadata": {
        "colab": {
          "base_uri": "https://localhost:8080/"
        },
        "id": "fmtwpUMkHyvC",
        "outputId": "e0ffa948-10cd-4053-b833-df2bd18143ee"
      },
      "source": [
        "#code here\n",
        "for k,v  in d.items():\n",
        "  print(f'{k} ----> {v}')\n"
      ],
      "id": "fmtwpUMkHyvC",
      "execution_count": 98,
      "outputs": [
        {
          "output_type": "stream",
          "name": "stdout",
          "text": [
            "actor ----> amir\n",
            "animal ----> cat\n",
            "earth ----> 2\n",
            "list ----> [23, 32, 12]\n",
            "singer ----> Kr$na\n",
            "album ----> Still here\n",
            "genre ----> hip-hop\n"
          ]
        }
      ]
    },
    {
      "cell_type": "markdown",
      "metadata": {
        "id": "jc1-BalQHyvC"
      },
      "source": [
        "\n",
        "Create a string, sent = ‘Coronavirus Caused Lockdowns Around The World.”\n",
        "\n",
        "Count the number of occurences of charachters in string named \"sent\" using dictionary and print the same.\n"
      ],
      "id": "jc1-BalQHyvC"
    },
    {
      "cell_type": "code",
      "metadata": {
        "colab": {
          "base_uri": "https://localhost:8080/"
        },
        "id": "VohZ0ZGiHyvC",
        "outputId": "25e6942a-13c3-4d11-9e2a-43ecc2ba4abb"
      },
      "source": [
        "#code here\n",
        "sent = 'Coronavirus Caused Lockdowns Around The World.'\n",
        "dict1 = {}\n",
        "for i in sent:\n",
        "  if i not in dict1.keys():\n",
        "    dict1[i] = 1\n",
        "  else:\n",
        "    dict1[i] += 1\n",
        "\n",
        "print(dict1)\n",
        "\n",
        "\n"
      ],
      "id": "VohZ0ZGiHyvC",
      "execution_count": 100,
      "outputs": [
        {
          "output_type": "stream",
          "name": "stdout",
          "text": [
            "{'C': 2, 'o': 6, 'r': 4, 'n': 3, 'a': 2, 'v': 1, 'i': 1, 'u': 3, 's': 3, ' ': 5, 'e': 2, 'd': 4, 'L': 1, 'c': 1, 'k': 1, 'w': 1, 'A': 1, 'T': 1, 'h': 1, 'W': 1, 'l': 1, '.': 1}\n"
          ]
        }
      ]
    },
    {
      "cell_type": "markdown",
      "metadata": {
        "id": "xL7oqOUiHyvC"
      },
      "source": [
        "# --------------------------------------------------------------------"
      ],
      "id": "xL7oqOUiHyvC"
    },
    {
      "cell_type": "markdown",
      "metadata": {
        "id": "RaIoWKILHyvC"
      },
      "source": [
        "# Hurray!! Second milestone completed. The next challenge is waiting for you :)\n",
        "\n",
        "# --------------------------------------------------------------------\n",
        "\n",
        "-----------------\n",
        "# FeedBack\n",
        "We hope you’ve enjoyed this course so far. We’re committed to help you use \"AI for All\" course to its full potential, so that you have a great learning experience. And that’s why we need your help in form of a feedback here.\n",
        "\n",
        "Please fill this feedback form  https://zfrmz.in/MtRG5oWXBdesm6rmSM7N"
      ],
      "id": "RaIoWKILHyvC"
    }
  ]
}