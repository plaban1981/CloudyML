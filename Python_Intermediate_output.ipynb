{
  "nbformat": 4,
  "nbformat_minor": 0,
  "metadata": {
    "kernelspec": {
      "display_name": "Python 3",
      "language": "python",
      "name": "python3"
    },
    "language_info": {
      "codemirror_mode": {
        "name": "ipython",
        "version": 3
      },
      "file_extension": ".py",
      "mimetype": "text/x-python",
      "name": "python",
      "nbconvert_exporter": "python",
      "pygments_lexer": "ipython3",
      "version": "3.8.5"
    },
    "colab": {
      "name": "Python_Intermediate_output.ipynb",
      "provenance": [],
      "include_colab_link": true
    }
  },
  "cells": [
    {
      "cell_type": "markdown",
      "metadata": {
        "id": "view-in-github",
        "colab_type": "text"
      },
      "source": [
        "<a href=\"https://colab.research.google.com/github/plaban1981/CloudyML/blob/main/Python_Intermediate_output.ipynb\" target=\"_parent\"><img src=\"https://colab.research.google.com/assets/colab-badge.svg\" alt=\"Open In Colab\"/></a>"
      ]
    },
    {
      "cell_type": "markdown",
      "metadata": {
        "id": "Na7hd3wr7S-G"
      },
      "source": [
        "# <center><u> Python-Intermediate </u></center>\n"
      ]
    },
    {
      "cell_type": "markdown",
      "metadata": {
        "id": "l_GerCoi7S-J"
      },
      "source": [
        "Here you can start digging into our intermediate-level programming questions that will teach you new Python concepts. This category is for intermediate Python developers who already know the basics of Python development and want to expand their knowledge.\n",
        "\n",
        "Below are some flowcharts on various python statements which will be useful to understand their use .\n",
        "\n",
        "\n",
        "**1. BREAK**\n",
        "![image-7.png](attachment:image-7.png)\n",
        "**2. CONTINUE**\n",
        "![image.png](attachment:image.png)\n",
        "**3. WHILE LOOP**\n",
        "![image-2.png](attachment:image-2.png)\n",
        "**4. FOR LOOP**\n",
        "![image-3.png](attachment:image-3.png)\n",
        "**5. IF STATEMENT**\n",
        "![image-4.png](attachment:image-4.png)\n",
        "**6. IF ELSE**\n",
        "![image-5.png](attachment:image-5.png)\n",
        "**7. IF ELSE IF ELSE**\n",
        "![image-6.png](attachment:image-6.png)\n",
        "\n",
        "\n",
        "\n",
        "Becoming a Python expert takes time, but over time you’ll master this beautiful programming language. It’s worth it! \n",
        "\n",
        "Reference video: https://youtu.be/HGOBQPFzWKo\n",
        "\n",
        "So lets get started!"
      ]
    },
    {
      "cell_type": "markdown",
      "metadata": {
        "id": "LmE9fjQC7S-K"
      },
      "source": [
        "1.Lets remove duplicates from list names=['A','B','C','A','D','E','F','G','H','E','D']\n",
        "\n"
      ]
    },
    {
      "cell_type": "code",
      "metadata": {
        "colab": {
          "base_uri": "https://localhost:8080/"
        },
        "id": "WLpQL-Ex7S-L",
        "outputId": "a5f2c447-3492-4db7-fe00-9d981cf31853"
      },
      "source": [
        "#code here\n",
        "list_names = ['A','B','C','A','D','E','F','G','H','E','D']\n",
        "print(sorted(list(set(list_names))))\n"
      ],
      "execution_count": 1,
      "outputs": [
        {
          "output_type": "stream",
          "name": "stdout",
          "text": [
            "['A', 'B', 'C', 'D', 'E', 'F', 'G', 'H']\n"
          ]
        }
      ]
    },
    {
      "cell_type": "markdown",
      "metadata": {
        "id": "XwMTTm_D7S-N"
      },
      "source": [
        "2. Good! Shall we try solving above problem in shhorter way using list comprehention? It will be amazing. Here we go!\n"
      ]
    },
    {
      "cell_type": "code",
      "metadata": {
        "colab": {
          "base_uri": "https://localhost:8080/"
        },
        "id": "jTl4c6R47S-N",
        "outputId": "ca65cec9-98a4-4fee-c139-6ff97ee05dca"
      },
      "source": [
        "#code here\n",
        "list_names = ['A','B','C','A','D','E','F','G','H','E','D']\n",
        "print(sorted(list(set(list_names))))\n"
      ],
      "execution_count": 2,
      "outputs": [
        {
          "output_type": "stream",
          "name": "stdout",
          "text": [
            "['A', 'B', 'C', 'D', 'E', 'F', 'G', 'H']\n"
          ]
        }
      ]
    },
    {
      "cell_type": "markdown",
      "metadata": {
        "id": "81vT302r7S-O"
      },
      "source": [
        "3. define a funtion 'occurence' which takes 2 inputs, one list 'lst' and another one a number 'n' and count the number of occurrences of n in your list lst."
      ]
    },
    {
      "cell_type": "code",
      "metadata": {
        "colab": {
          "base_uri": "https://localhost:8080/"
        },
        "id": "HCWpOjcl7S-P",
        "outputId": "64a85b4b-afdd-4856-9eb8-99d99dbb7def"
      },
      "source": [
        "#your code\n",
        "def occurence(items,n):\n",
        "  return items.count(n)\n",
        "\n",
        " \n",
        "#lets use your function\n",
        "occurence([2,3,4,8,1,3,5,2,1,3,1,2,2], 2)"
      ],
      "execution_count": null,
      "outputs": [
        {
          "output_type": "execute_result",
          "data": {
            "text/plain": [
              "4"
            ]
          },
          "metadata": {},
          "execution_count": 6
        }
      ]
    },
    {
      "cell_type": "markdown",
      "metadata": {
        "id": "3BWkY6qz7S-Q"
      },
      "source": [
        "4. Calculate factorial of a number ( Here number=3) using while loop"
      ]
    },
    {
      "cell_type": "code",
      "metadata": {
        "colab": {
          "base_uri": "https://localhost:8080/"
        },
        "id": "NNLXYvdE7S-R",
        "outputId": "27871c8c-83ce-43d1-9466-7525bf9ba663"
      },
      "source": [
        "number = 3\n",
        "#code here\n",
        "def factorial(number):\n",
        "  factorial = 1\n",
        "  while number > 0:\n",
        "        factorial = factorial * number\n",
        "        number = number - 1\n",
        "  return factorial\n",
        "\n",
        "\n",
        "factorial(number)"
      ],
      "execution_count": 6,
      "outputs": [
        {
          "output_type": "execute_result",
          "data": {
            "text/plain": [
              "6"
            ]
          },
          "metadata": {},
          "execution_count": 6
        }
      ]
    },
    {
      "cell_type": "markdown",
      "metadata": {
        "id": "XFVG-Pz57S-S"
      },
      "source": [
        "5. Reverse a given integer number num = 47594038222 and display the count of total number of digits in your revered number using while loop."
      ]
    },
    {
      "cell_type": "code",
      "metadata": {
        "id": "K109ez3v7S-S",
        "colab": {
          "base_uri": "https://localhost:8080/"
        },
        "outputId": "71aa9d5e-1d1a-4db1-aa9f-0e03cf27e4b0"
      },
      "source": [
        "#code here\n",
        "var = input(\"enter integer number : \")\n",
        "reverse = var[::-1]\n",
        "print(f\"Total number of digits in {reverse} are {len(reverse)}\")\n",
        "\n",
        "\n"
      ],
      "execution_count": null,
      "outputs": [
        {
          "output_type": "stream",
          "text": [
            "enter integer number : 47594038222\n",
            "Total number of digits in 22283049574 are 11\n"
          ],
          "name": "stdout"
        }
      ]
    },
    {
      "cell_type": "markdown",
      "metadata": {
        "id": "xZHW1yl-7S-T"
      },
      "source": [
        "6. Can you reverse you given num without using loop in just one line?\n",
        "\n",
        "Hint: apply some slicing trick to do it."
      ]
    },
    {
      "cell_type": "code",
      "metadata": {
        "id": "2uY35BWF7S-T",
        "colab": {
          "base_uri": "https://localhost:8080/"
        },
        "outputId": "af6e40b2-d8a3-415c-a5af-dfd170cc16ad"
      },
      "source": [
        "num = 47594038222\n",
        "\n",
        "#one line code here\n",
        "reverse = str(num)[::-1]\n",
        "print(reverse)\n"
      ],
      "execution_count": null,
      "outputs": [
        {
          "output_type": "stream",
          "text": [
            "22283049574\n"
          ],
          "name": "stdout"
        }
      ]
    },
    {
      "cell_type": "markdown",
      "metadata": {
        "id": "nDgGyBI37S-T"
      },
      "source": [
        "7. Write a function that checks whether a given sequence of number is IP address or not and print all valid possible IP from a given digit. If not an IP then it prints empty list\n",
        "\n",
        "**Note:** According to Wikipedia, IPv4 addresses are canonically represented in dot-decimal notation, which consists of four decimal numbers, each ranging from 0 to 255, separated by dots, e.g., 172.16.254.1"
      ]
    },
    {
      "cell_type": "code",
      "metadata": {
        "id": "x6Y5uHu9XkDU"
      },
      "source": [
        "# function to check if ip address is valid\n",
        "def is_valid(ip):\n",
        "  ip = ip.split(\".\")\n",
        "  for i in ip:\n",
        "    if (len(i) > 3 or int(i) < 0 or int(i) > 255):\n",
        "      return False\n",
        "    if ( len(i) > 1 and int(i) ==0 ):\n",
        "      return False\n",
        "    if len(i) > 1 and int(i) != 0 and i[0] == '0':\n",
        "      return False\n",
        "  return True\n",
        "\n",
        "# function to convert to ip address\n",
        "def convert(s):\n",
        "  sz = len(s)\n",
        "  print(sz)\n",
        "  if sz > 12:\n",
        "    return []\n",
        "  snew = s\n",
        "  l  = []\n",
        "  ## generating different combinations\n",
        "  for i in range(1,sz -2):\n",
        "    for j in range(i+1,sz -1):\n",
        "      for k in range(j + 1,sz):\n",
        "        snew = snew[:k] + \".\" +snew[k:]\n",
        "        snew = snew[:j] + \".\" +snew[j:]\n",
        "        snew = snew[:i] + \".\" +snew[i:]\n",
        "        print(snew)\n",
        "        if is_valid(snew):\n",
        "          l.append(snew)\n",
        "        snew =s\n",
        "  return l\n",
        "\n"
      ],
      "execution_count": 13,
      "outputs": []
    },
    {
      "cell_type": "code",
      "metadata": {
        "colab": {
          "base_uri": "https://localhost:8080/"
        },
        "id": "A9BTZn2Q-7wa",
        "outputId": "5257041d-98de-48cc-d927-2d0401d35884"
      },
      "source": [
        "A = \"25525511135\"\n",
        "convert(A)"
      ],
      "execution_count": 9,
      "outputs": [
        {
          "output_type": "execute_result",
          "data": {
            "text/plain": [
              "['255.255.11.135', '255.255.111.35']"
            ]
          },
          "metadata": {},
          "execution_count": 9
        }
      ]
    },
    {
      "cell_type": "code",
      "metadata": {
        "colab": {
          "base_uri": "https://localhost:8080/"
        },
        "id": "1L8AhP5IXxXZ",
        "outputId": "d3acdf1e-3b16-4463-a353-151967a86972"
      },
      "source": [
        "B = \"25505011536\"\n",
        "convert(B)"
      ],
      "execution_count": 14,
      "outputs": [
        {
          "output_type": "stream",
          "name": "stdout",
          "text": [
            "11\n",
            "2.5.5.05011536\n",
            "2.5.50.5011536\n",
            "2.5.505.011536\n",
            "2.5.5050.11536\n",
            "2.5.50501.1536\n",
            "2.5.505011.536\n",
            "2.5.5050115.36\n",
            "2.5.50501153.6\n",
            "2.55.0.5011536\n",
            "2.55.05.011536\n",
            "2.55.050.11536\n",
            "2.55.0501.1536\n",
            "2.55.05011.536\n",
            "2.55.050115.36\n",
            "2.55.0501153.6\n",
            "2.550.5.011536\n",
            "2.550.50.11536\n",
            "2.550.501.1536\n",
            "2.550.5011.536\n",
            "2.550.50115.36\n",
            "2.550.501153.6\n",
            "2.5505.0.11536\n",
            "2.5505.01.1536\n",
            "2.5505.011.536\n",
            "2.5505.0115.36\n",
            "2.5505.01153.6\n",
            "2.55050.1.1536\n",
            "2.55050.11.536\n",
            "2.55050.115.36\n",
            "2.55050.1153.6\n",
            "2.550501.1.536\n",
            "2.550501.15.36\n",
            "2.550501.153.6\n",
            "2.5505011.5.36\n",
            "2.5505011.53.6\n",
            "2.55050115.3.6\n",
            "25.5.0.5011536\n",
            "25.5.05.011536\n",
            "25.5.050.11536\n",
            "25.5.0501.1536\n",
            "25.5.05011.536\n",
            "25.5.050115.36\n",
            "25.5.0501153.6\n",
            "25.50.5.011536\n",
            "25.50.50.11536\n",
            "25.50.501.1536\n",
            "25.50.5011.536\n",
            "25.50.50115.36\n",
            "25.50.501153.6\n",
            "25.505.0.11536\n",
            "25.505.01.1536\n",
            "25.505.011.536\n",
            "25.505.0115.36\n",
            "25.505.01153.6\n",
            "25.5050.1.1536\n",
            "25.5050.11.536\n",
            "25.5050.115.36\n",
            "25.5050.1153.6\n",
            "25.50501.1.536\n",
            "25.50501.15.36\n",
            "25.50501.153.6\n",
            "25.505011.5.36\n",
            "25.505011.53.6\n",
            "25.5050115.3.6\n",
            "255.0.5.011536\n",
            "255.0.50.11536\n",
            "255.0.501.1536\n",
            "255.0.5011.536\n",
            "255.0.50115.36\n",
            "255.0.501153.6\n",
            "255.05.0.11536\n",
            "255.05.01.1536\n",
            "255.05.011.536\n",
            "255.05.0115.36\n",
            "255.05.01153.6\n",
            "255.050.1.1536\n",
            "255.050.11.536\n",
            "255.050.115.36\n",
            "255.050.1153.6\n",
            "255.0501.1.536\n",
            "255.0501.15.36\n",
            "255.0501.153.6\n",
            "255.05011.5.36\n",
            "255.05011.53.6\n",
            "255.050115.3.6\n",
            "2550.5.0.11536\n",
            "2550.5.01.1536\n",
            "2550.5.011.536\n",
            "2550.5.0115.36\n",
            "2550.5.01153.6\n",
            "2550.50.1.1536\n",
            "2550.50.11.536\n",
            "2550.50.115.36\n",
            "2550.50.1153.6\n",
            "2550.501.1.536\n",
            "2550.501.15.36\n",
            "2550.501.153.6\n",
            "2550.5011.5.36\n",
            "2550.5011.53.6\n",
            "2550.50115.3.6\n",
            "25505.0.1.1536\n",
            "25505.0.11.536\n",
            "25505.0.115.36\n",
            "25505.0.1153.6\n",
            "25505.01.1.536\n",
            "25505.01.15.36\n",
            "25505.01.153.6\n",
            "25505.011.5.36\n",
            "25505.011.53.6\n",
            "25505.0115.3.6\n",
            "255050.1.1.536\n",
            "255050.1.15.36\n",
            "255050.1.153.6\n",
            "255050.11.5.36\n",
            "255050.11.53.6\n",
            "255050.115.3.6\n",
            "2550501.1.5.36\n",
            "2550501.1.53.6\n",
            "2550501.15.3.6\n",
            "25505011.5.3.6\n"
          ]
        },
        {
          "output_type": "execute_result",
          "data": {
            "text/plain": [
              "[]"
            ]
          },
          "metadata": {},
          "execution_count": 14
        }
      ]
    },
    {
      "cell_type": "code",
      "metadata": {
        "id": "8mYFXyIl7S-U",
        "colab": {
          "base_uri": "https://localhost:8080/"
        },
        "outputId": "82c81848-776e-4115-ad75-54e66e2ac4e9"
      },
      "source": [
        "#Code here\n",
        "var = input(\"enter number\")\n",
        "j = []\n",
        "final = []\n",
        "flag = False\n",
        "for i in range(0,12,3):\n",
        "  temp = var[i:i+3]\n",
        "  if int(temp) <= 255 and int(temp[0])!=0:\n",
        "      j.append(temp)\n",
        "  else:\n",
        "    flag = True\n",
        "    break\n",
        "if flag == False:\n",
        "  final.append(\".\".join(j))\n",
        "else:\n",
        "  final.append([])\n",
        "print(final)\n",
        "\n",
        "\n",
        "\n",
        "\n",
        "\n",
        "\n",
        " \n",
        "# Check your code with below numbers    \n",
        "A = \"25525511135\"\n",
        "B = \"25505011536\"\n",
        " \n",
        "\n",
        "    \n",
        "    \n"
      ],
      "execution_count": null,
      "outputs": [
        {
          "output_type": "stream",
          "text": [
            "enter number25525511135\n",
            "['255.255.111.35']\n"
          ],
          "name": "stdout"
        }
      ]
    },
    {
      "cell_type": "markdown",
      "metadata": {
        "id": "VdjzSx117S-U"
      },
      "source": [
        "8. Solve the quadratic equation ax**2 + bx + c = 0 where a =4, b=6, c=2"
      ]
    },
    {
      "cell_type": "code",
      "metadata": {
        "id": "bQ25313e7S-U",
        "colab": {
          "base_uri": "https://localhost:8080/"
        },
        "outputId": "391ebd40-85d5-4529-ea64-7f3d79a9924d"
      },
      "source": [
        "#code here\n",
        "import math\n",
        "a = 4\n",
        "b = 6\n",
        "c = 2\n",
        "# calculate the discriminant\n",
        "d = (b ** 2) - (4 *a*c)\n",
        "# find the solutions\n",
        "sol1 = (- b -math.sqrt(d)) /(2 * a)\n",
        "sol2 = (- b + math.sqrt(d)) /(2 * a)\n",
        "print(f'The solution are {sol1}and {sol2}')"
      ],
      "execution_count": 15,
      "outputs": [
        {
          "output_type": "stream",
          "name": "stdout",
          "text": [
            "The solution are -1.0and -0.5\n"
          ]
        }
      ]
    },
    {
      "cell_type": "markdown",
      "metadata": {
        "id": "VVI1QVGM7S-U"
      },
      "source": [
        "9. Write a program to Remove Punctuations From a String \n",
        "\n",
        "s=\"Wow!!!, we are going ahead with our course to learn *machine learning* ---are'nt you excited? :)\""
      ]
    },
    {
      "cell_type": "code",
      "metadata": {
        "id": "VvxzJild7S-V",
        "colab": {
          "base_uri": "https://localhost:8080/"
        },
        "outputId": "c1dc8d1c-5c92-4251-e8e6-4d717785a4b7"
      },
      "source": [
        "# code here\n",
        "import string\n",
        "str1 = input(\"eneter the string\")\n",
        "result = \"\".join([c for c in str1 if c not in string.punctuation ])\n",
        "print(result)\n",
        "\n",
        "\n",
        "\n"
      ],
      "execution_count": null,
      "outputs": [
        {
          "output_type": "stream",
          "text": [
            "eneter the stringWow!!!, we are going ahead with our course to learn machine learning ---are'nt you excited? :)\n",
            "Wow we are going ahead with our course to learn machine learning arent you excited \n"
          ],
          "name": "stdout"
        }
      ]
    },
    {
      "cell_type": "markdown",
      "metadata": {
        "id": "SFLsqP8V7S-V"
      },
      "source": [
        "10. Write a program which takes 2 digits, X,Y as input and generates a 2-dimensional array. The element value in the i-th row and j-th column of the array should be i*j.\n",
        "\n",
        "Note: i=0,1.., X-1; j=0,1,i^Y-1."
      ]
    },
    {
      "cell_type": "code",
      "metadata": {
        "colab": {
          "base_uri": "https://localhost:8080/"
        },
        "id": "81MC6wUPr1tc",
        "outputId": "5df8fba7-c9ad-4438-d1a1-32425c846a7a"
      },
      "source": [
        "digit1=3\n",
        "digit2=4\n",
        "x = []\n",
        "#code here\n",
        "for i in range(0,digit1):\n",
        "  temp = []\n",
        "  for j in range(0,digit2):\n",
        "    temp.append(i * j)\n",
        "  x.append(temp)\n",
        "print(x)\n"
      ],
      "execution_count": null,
      "outputs": [
        {
          "output_type": "stream",
          "text": [
            "[[0, 0, 0, 0], [0, 1, 2, 3], [0, 2, 4, 6]]\n"
          ],
          "name": "stdout"
        }
      ]
    },
    {
      "cell_type": "markdown",
      "metadata": {
        "id": "3h72jfGJ7S-W"
      },
      "source": [
        "11. Write a function 'solve_coin_change' which takes list of denominations and amount and checks number of ways you can make change with coins and a total amount.\n",
        "\n",
        "Note: You have unlimited amount of mentioned denominations\n",
        "\n",
        "![image.png](attachment:image.png)"
      ]
    },
    {
      "cell_type": "code",
      "metadata": {
        "id": "lVc8G3_r7S-W",
        "outputId": "30115f78-56ac-4749-b56b-c4a5c9a424cf"
      },
      "source": [
        "#code here\n",
        "\n",
        "\n",
        "\n",
        "\n",
        "\n",
        "\n",
        "\n",
        "\n",
        "# Checking your code\n",
        "print(solve_coin_change([1, 5, 10],20))\n",
        "print(solve_coin_change([1, 2, 5],7))"
      ],
      "execution_count": null,
      "outputs": [
        {
          "name": "stdout",
          "output_type": "stream",
          "text": [
            "9\n",
            "6\n"
          ]
        }
      ]
    },
    {
      "cell_type": "markdown",
      "metadata": {
        "id": "QwFnekxh7S-W"
      },
      "source": [
        "12. For given string S and integers P and Q, which denotes the cost of removal of substrings “he” and “lo” respectively from S, the task is to find the maximum cost of removing all occurrences of substrings “he” and “lo”.\n",
        "\n",
        "example if S = “hellohellohellohellohello”, P = 6, Q = 4, then cost to remove 'he' and 'lo' is 50"
      ]
    },
    {
      "cell_type": "code",
      "metadata": {
        "id": "ZI5_Wwbd7S-X",
        "colab": {
          "base_uri": "https://localhost:8080/"
        },
        "outputId": "915b02b9-639f-4c07-d3ed-09b127a75c7b"
      },
      "source": [
        "# code here\n",
        "def MaxCollection(S, P, Q):\n",
        "  print(f\"Number of Occurences of 'he' in {S} = {S.count('he')} and cost to remove is {S.count('he') * P} \")\n",
        "  print(f\"Number of Occurences of 'lo' in {S} = {S.count('lo')} and cost to remove is {S.count('lo') * Q} \")\n",
        "  return (S.count('he') * P) + (S.count('lo') * Q)\n",
        "\n",
        "    \n",
        "    \n",
        "# Check code with \n",
        "\n",
        "S = \"hellohellohellohellohello\"\n",
        "\n",
        "# Costs\n",
        "P = 6;\n",
        "Q = 4;\n",
        "\n",
        "\n",
        "print(MaxCollection(S, P, Q));"
      ],
      "execution_count": null,
      "outputs": [
        {
          "output_type": "stream",
          "text": [
            "Number of Occurences of 'he' in hellohellohellohellohello = 5 and cost to remove is 30 \n",
            "Number of Occurences of 'lo' in hellohellohellohellohello = 5 and cost to remove is 20 \n",
            "50\n"
          ],
          "name": "stdout"
        }
      ]
    },
    {
      "cell_type": "markdown",
      "metadata": {
        "id": "iTHm10_H7S-X"
      },
      "source": [
        "13. Given a binary string S , the task is to find the smallest string possible by removing all occurrences of substrings “01” and “11”. After removal of any substring, concatenate the remaining parts of the string.\n",
        "\n",
        "Example\n",
        "    \n",
        "    Input: S = “0010110”\n",
        "    Output: String = 0\n",
        "    \n",
        "    Explanation: String can be transformed by the following steps: \n",
        "    0010110 → 00110 → 010 → 0. \n",
        "    Since no occurrence of substrings 01 and 11 are remaining, the string “0” is of minimum possible length 1."
      ]
    },
    {
      "cell_type": "code",
      "metadata": {
        "id": "HilumxxD7S-X",
        "outputId": "84059fcd-5a04-4b73-a2f2-ffadd5242aa2"
      },
      "source": [
        "#code here\n",
        "\n",
        "\n",
        "\n",
        "\n",
        "#check code here\n",
        "    \n",
        "s=\"0010110\"\n",
        "\n",
        "\n",
        "\n"
      ],
      "execution_count": null,
      "outputs": [
        {
          "name": "stdout",
          "output_type": "stream",
          "text": [
            "The final string is: 0\n",
            "The final string size is: 1\n"
          ]
        }
      ]
    },
    {
      "cell_type": "markdown",
      "metadata": {
        "id": "uIZvoCX87S-X"
      },
      "source": [
        "14. Write a function such that it accepts two integers n, m as arguments Find the sum of all numbers in range from 1 to m(both inclusive) that are not divisible by n. Return difference between sum of integers not divisible by n with sum of numbers divisible by n\n",
        "\n",
        "Example\n",
        "\n",
        "    Input\n",
        "    n:4\n",
        "    m:20\n",
        "    Output\n",
        "    90"
      ]
    },
    {
      "cell_type": "code",
      "metadata": {
        "id": "_wMnEmRA7S-Y",
        "colab": {
          "base_uri": "https://localhost:8080/"
        },
        "outputId": "fe4c48e1-0690-420d-e428-154e765a5899"
      },
      "source": [
        "#code here\n",
        "n = int(input(\"Enter argument1 in integer\"))\n",
        "m = int(input(\"Enter arguement2 in integer\"))\n",
        "# Find the sum of all numbers in range from 1 to m(both inclusive) that are not divisible by n\n",
        "msum = sum([i for i in range(1,m+1) if i % n !=0])\n",
        "#Return difference between sum of integers not divisible by n with sum of numbers divisible by n\n",
        "nsum = sum([i for i in range(1,m+1) if i % n ==0])\n",
        "output = msum  - nsum\n",
        "print(output)\n",
        "\n",
        "\n",
        "\n"
      ],
      "execution_count": null,
      "outputs": [
        {
          "output_type": "stream",
          "text": [
            "Enter argument1 in integer4\n",
            "Enter arguement2 in integer20\n",
            "90\n"
          ],
          "name": "stdout"
        }
      ]
    },
    {
      "cell_type": "markdown",
      "metadata": {
        "id": "hsBCtRkR7S-Y"
      },
      "source": [
        "15. Write a function count_code that return the number of times that the string \"code\" appears anywhere in the given string, except we'll accept any letter for the 'd', so \"cope\" and \"cooe\" count.\n",
        "\n",
        "\n",
        "    count_code('aaacodebbb') → 1\n",
        "    count_code('codexxcode') → 2\n",
        "    count_code('cozexxcope') → 2"
      ]
    },
    {
      "cell_type": "code",
      "metadata": {
        "id": "9rhhL7DN7S-Y",
        "colab": {
          "base_uri": "https://localhost:8080/"
        },
        "outputId": "620aebf9-e14b-4b63-e794-be1b3025d7c7"
      },
      "source": [
        "#code here\n",
        "import re\n",
        "def count_code(string):\n",
        "  return len(re.findall(r'co[a-zA-Z]e', string))\n",
        "\n",
        "#check your code \n",
        "print(count_code('aaacodebbb'))\n",
        "print(count_code('codexxcode'))\n",
        "print(count_code('cozexxcope'))\n"
      ],
      "execution_count": null,
      "outputs": [
        {
          "output_type": "stream",
          "text": [
            "1\n",
            "2\n",
            "2\n"
          ],
          "name": "stdout"
        }
      ]
    },
    {
      "cell_type": "markdown",
      "metadata": {
        "id": "BgeAgGbB7S-Z"
      },
      "source": [
        "16. Lets have one moderate level question for you. \n",
        "\n",
        "Find the sum of the series 4 +44 + 444 + 4444 + .. n terms\n",
        "\n",
        "here keep n=5"
      ]
    },
    {
      "cell_type": "code",
      "metadata": {
        "id": "fTwZNh_i7S-Z",
        "colab": {
          "base_uri": "https://localhost:8080/"
        },
        "outputId": "9303c13f-4c77-43e8-c7cb-14345dde59f0"
      },
      "source": [
        "#code here\n",
        "list1 = []\n",
        "s = 4\n",
        "sum1 =0\n",
        "for i in range(1,6):\n",
        "  list1.append(str(4)*i)\n",
        "  sum1 = sum1 + int(str(4)*i)\n",
        "print(\" \".join(list1))\n",
        "print(f'Sum of above series is: {sum1} ')\n"
      ],
      "execution_count": null,
      "outputs": [
        {
          "output_type": "stream",
          "text": [
            "4 44 444 4444 44444\n",
            "Sum of above series is: 49380 \n"
          ],
          "name": "stdout"
        }
      ]
    },
    {
      "cell_type": "markdown",
      "metadata": {
        "id": "Pxn-Yo_q7S-Z"
      },
      "source": [
        "17. Assume s is a string of lower case characters.\n",
        "<br>\n",
        "Write a program that counts up the number of vowels contained in the string s. Valid vowels are: 'a', 'e', 'i', 'o', and 'u'. For example, if s = 'azcbobobegghakl', your program should print:<br>\n",
        "```Number of vowels: 5```"
      ]
    },
    {
      "cell_type": "code",
      "metadata": {
        "id": "K8YzFCL47S-Z",
        "colab": {
          "base_uri": "https://localhost:8080/"
        },
        "outputId": "5ca06a9f-defe-47a6-d4f2-552ae232a941"
      },
      "source": [
        "#code here\n",
        "words = input(\"enter string : \")\n",
        "vowels = ['a','e','i','o','u']\n",
        "cnt = 0\n",
        "for word in words:\n",
        "  if word in vowels:\n",
        "    cnt +=1\n",
        "print(f\"Number of vowels: {cnt}\")\n",
        "\n",
        "\n",
        "\n",
        "\n"
      ],
      "execution_count": null,
      "outputs": [
        {
          "output_type": "stream",
          "text": [
            "enter string : azcbobobegghakl\n",
            "Number of vowels: 5\n"
          ],
          "name": "stdout"
        }
      ]
    },
    {
      "cell_type": "markdown",
      "metadata": {
        "id": "XiDAn4Iy7S-a"
      },
      "source": [
        "18. well done. Now we want you to solve above question in just one line. have faith in your, you can do it. "
      ]
    },
    {
      "cell_type": "code",
      "metadata": {
        "id": "1dLXNril7S-a",
        "colab": {
          "base_uri": "https://localhost:8080/"
        },
        "outputId": "7ee303b6-dbf4-4cc6-aab7-9fe3972494ff"
      },
      "source": [
        "# one line code here.\n",
        "words = input(\"enter string : \")\n",
        "vowels = ['a','e','i','o','u']\n",
        "print(f\"Number of vowels: {len([x for x in words if x in vowels])}\")\n",
        "\n",
        "\n"
      ],
      "execution_count": null,
      "outputs": [
        {
          "output_type": "stream",
          "text": [
            "enter string : azcbobobegghakl\n",
            "Number of vowels: 5\n"
          ],
          "name": "stdout"
        }
      ]
    },
    {
      "cell_type": "markdown",
      "metadata": {
        "id": "jLfvRkr77S-a"
      },
      "source": [
        "19. Assume s is a string of lower case characters.\n",
        "\n",
        "Write a program that prints the number of times the string 'bob' occurs in s. For example, if s = 'azcbobobegghakl', then your program should print\n",
        "\n",
        "```Number of times bob occurs is: 2```"
      ]
    },
    {
      "cell_type": "code",
      "metadata": {
        "colab": {
          "base_uri": "https://localhost:8080/"
        },
        "id": "GTPWbBdzURh6",
        "outputId": "2261b693-832b-4ae1-8636-86e35b2e62c9"
      },
      "source": [
        "def occurrences(string, sub):\n",
        "    count = start = 0\n",
        "    while True:\n",
        "        start = string.find(sub, start) + 1\n",
        "        print(start)\n",
        "        if start > 0:\n",
        "            count+=1\n",
        "        else:\n",
        "            return count\n",
        "occurrences('azcbobobegghakl', 'bob')"
      ],
      "execution_count": null,
      "outputs": [
        {
          "output_type": "stream",
          "text": [
            "4\n",
            "6\n",
            "0\n"
          ],
          "name": "stdout"
        },
        {
          "output_type": "execute_result",
          "data": {
            "text/plain": [
              "2"
            ]
          },
          "metadata": {},
          "execution_count": 6
        }
      ]
    },
    {
      "cell_type": "markdown",
      "metadata": {
        "id": "J_psSYth7S-a"
      },
      "source": [
        "20. Assume s is a string of lower case characters.\n",
        "\n",
        "Write a program that prints the longest substring of s in which the letters occur in alphabetical order. For example, if s = 'azcbobobegghakl', then your program should print\n",
        "\n",
        "```Longest substring in alphabetical order is: beggh```<br><br>\n",
        "In the case of ties, print the first substring. For example, if s = 'abcbcd', then your program should print\n",
        "\n",
        "```Longest substring in alphabetical order is: abc```"
      ]
    },
    {
      "cell_type": "code",
      "metadata": {
        "id": "OB_fbbOk7S-b",
        "outputId": "779efaa5-1bb0-4f8e-9b4d-40cf37ee5156"
      },
      "source": [
        "#code here\n",
        "s = 'azcbobobegghakl'\n",
        "chron ={}\n",
        "for word in s:\n",
        "  chron[word] = ord(word)\n",
        "\n",
        "\n",
        "\n"
      ],
      "execution_count": null,
      "outputs": [
        {
          "name": "stdout",
          "output_type": "stream",
          "text": [
            "Longest substring in alphabetical order is: beggh\n"
          ]
        }
      ]
    },
    {
      "cell_type": "markdown",
      "metadata": {
        "id": "FpU6NI9Y7S-b"
      },
      "source": [
        "Awsesome! Great job so far. Hope you fell in love with python now.\n",
        "\n",
        "\n",
        "But wait we want to give a treat..:) We have a surprise for you in form of one of the task, in this task you have to create a game in python. You can take up this task as a mini project of your's in python. Hmm.. Sounds good. Isn't it?\n",
        "\n",
        "So lets gets started.. we have given the instructions below for the task in detail \n",
        "\n",
        "# Hangman Game\n",
        "## In this project we are going to create Hangman Game using python\n",
        "\n",
        "\n",
        "**Q. What is the hangman game?**<br>\n",
        "A:- Hangman is a guessing game. The player will tries to guess a word picked by the computer, by suggesting letters within a certain number of guesses\n",
        "\n",
        "\n",
        "# Task 1\n",
        "Create a function **is_word_guessed** that takes in two arguments :- <br> **secret_word**, **letters_guessed** <br>**returns True** if all of the letter of secret_word are in letters_guessed, **returns False** if not\n",
        "\n",
        "\n",
        "**Assumptions**<br>\n",
        "**secret_word**: string, the word the user is guessing; assumes all letters are lowercase<br>\n",
        "**letters_guessed**: list (of letters), which letters have been guessed so far; assumes that all letters are lowercase<br>\n",
        "\n",
        "**Example**:-<br> \n",
        "secret_word = 'apple'<br>\n",
        "letters_guessed = ['e', 'a', 'k', 'p', 'l', 's']<br>\n",
        "is_word_guessed() will return True.<br><br> \n",
        "secret_word = 'apple'<br>\n",
        "letters_guessed = ['e', 'i', 'k', 'p', 'r', 's']<br>\n",
        "is_word_guessed() will return False.<br><br> \n",
        "\n",
        "\n",
        "\n"
      ]
    },
    {
      "cell_type": "code",
      "metadata": {
        "colab": {
          "base_uri": "https://localhost:8080/"
        },
        "id": "8saeffo2Ejhs",
        "outputId": "75c01bcb-7777-4f69-b00c-4835803f2684"
      },
      "source": [
        "'r' in secret_word"
      ],
      "execution_count": null,
      "outputs": [
        {
          "output_type": "execute_result",
          "data": {
            "text/plain": [
              "False"
            ]
          },
          "metadata": {},
          "execution_count": 37
        }
      ]
    },
    {
      "cell_type": "code",
      "metadata": {
        "id": "1To8H_di7S-b"
      },
      "source": [
        "def is_word_guessed(secret_word, letters_guessed):\n",
        "    \n",
        "    # Code here\n",
        "    count = 0\n",
        "    for i in secret_word:\n",
        "      if i in letters_guessed:\n",
        "        count +=1\n",
        "    #\n",
        "    if count == len(secret_word):\n",
        "      return True\n",
        "    elif count > 0 and len(letters_guessed) < len(secret_word):\n",
        "      return True\n",
        "    else:\n",
        "      return False\n",
        "\n",
        "\n"
      ],
      "execution_count": null,
      "outputs": []
    },
    {
      "cell_type": "markdown",
      "metadata": {
        "id": "yfEWrGBtFHBC"
      },
      "source": [
        "## Test is_word_guessed function"
      ]
    },
    {
      "cell_type": "code",
      "metadata": {
        "colab": {
          "base_uri": "https://localhost:8080/"
        },
        "id": "Q6jlJb2yDyEU",
        "outputId": "3d373825-3e58-4e34-8108-cd47fa954cba"
      },
      "source": [
        "secret_word = 'apple'\n",
        "letters_guessed = ['e', 'a', 'k', 'p', 'l', 's']\n",
        "is_word_guessed(secret_word, letters_guessed)   \n"
      ],
      "execution_count": null,
      "outputs": [
        {
          "output_type": "execute_result",
          "data": {
            "text/plain": [
              "True"
            ]
          },
          "metadata": {},
          "execution_count": 2
        }
      ]
    },
    {
      "cell_type": "code",
      "metadata": {
        "colab": {
          "base_uri": "https://localhost:8080/"
        },
        "id": "O79fm5abDzMb",
        "outputId": "6911d4aa-a137-4612-937d-9937483b43ec"
      },
      "source": [
        "secret_word = 'apple'\n",
        "letters_guessed = ['e', 'i', 'k', 'p', 'r', 's']\n",
        "is_word_guessed(secret_word, letters_guessed)"
      ],
      "execution_count": null,
      "outputs": [
        {
          "output_type": "execute_result",
          "data": {
            "text/plain": [
              "False"
            ]
          },
          "metadata": {},
          "execution_count": 77
        }
      ]
    },
    {
      "cell_type": "code",
      "metadata": {
        "colab": {
          "base_uri": "https://localhost:8080/"
        },
        "id": "d4qy8h5df230",
        "outputId": "beaeed3b-8361-4e2a-b79c-e1f2c9394587"
      },
      "source": [
        "secret_word = 'apple'\n",
        "letters_guessed = ['a']\n",
        "is_word_guessed(secret_word, letters_guessed)"
      ],
      "execution_count": null,
      "outputs": [
        {
          "output_type": "execute_result",
          "data": {
            "text/plain": [
              "True"
            ]
          },
          "metadata": {},
          "execution_count": 79
        }
      ]
    },
    {
      "cell_type": "code",
      "metadata": {
        "colab": {
          "base_uri": "https://localhost:8080/"
        },
        "id": "MlnpfmjXf_PZ",
        "outputId": "013423a3-b9cb-4485-9abe-f81b438bc6f3"
      },
      "source": [
        "secret_word = 'apple'\n",
        "letters_guessed = ['s']\n",
        "is_word_guessed(secret_word, letters_guessed)"
      ],
      "execution_count": null,
      "outputs": [
        {
          "output_type": "execute_result",
          "data": {
            "text/plain": [
              "False"
            ]
          },
          "metadata": {},
          "execution_count": 80
        }
      ]
    },
    {
      "cell_type": "markdown",
      "metadata": {
        "id": "n23YplcG7S-b"
      },
      "source": [
        "# Task 2\n",
        "Create a function **get_guessed_word** that takes in two arguments :-<br> **secret_word**, **letters_guessed** <br>**returns** string, comprised of known letters, and unknown letters represented by an underscore and a space (_ )<br>\n",
        "\n",
        "**Assumptions**<br>\n",
        "**secret_word**: string, the word the user is guessing;<br>\n",
        "**letters_guessed**: list (of letters), which letters have been guessed so far<br>\n",
        "\n",
        "**Example**:-<br>\n",
        "secret_word = 'apple'<br>\n",
        "letters_guessed = ['e', 'i', 'k', 'p', 'r', 's']<br>\n",
        "get_guessed_word() will return '_ pp_ e'\n",
        "\n",
        "```\n",
        "You want something like a_ _ _ d_ j and Not a___d_j,\n",
        "which might make it hard for the user to know how many characters are there to be guessed, \n",
        "that's why you want to use '_ ' instead of '_'\n",
        "```"
      ]
    },
    {
      "cell_type": "code",
      "metadata": {
        "id": "vjBJmTpU7S-b"
      },
      "source": [
        "# importing modules needed for the project\n",
        "import random\n",
        "import string\n",
        "\n",
        "def get_guessed_word(secret_word, letters_guessed):\n",
        "    \n",
        "#     code here\n",
        "      temp = ['_' for j in secret_word]\n",
        "      for j in secret_word:\n",
        "        if j in letters_guessed:\n",
        "          cnt = secret_word.count(j)\n",
        "          #print(j,cnt)\n",
        "          if cnt ==1 :\n",
        "            pos = secret_word.index(j)\n",
        "            temp[pos] = j\n",
        "          else:\n",
        "            pos1 = secret_word.find(j)\n",
        "            pos2 = secret_word.find(j[pos1+1:]) + pos1 +1\n",
        "            #print(pos1,pos2)\n",
        "            temp[pos1] = j\n",
        "            temp[pos2] = j\n",
        "          letters_guessed.pop()\n",
        "          #print(letters_guessed)\n",
        "       \n",
        "\n",
        "\n",
        "       \n",
        "      return \" \".join(temp)\n"
      ],
      "execution_count": null,
      "outputs": []
    },
    {
      "cell_type": "markdown",
      "metadata": {
        "id": "_9vW5ZFGHNHR"
      },
      "source": [
        "## Test Function"
      ]
    },
    {
      "cell_type": "code",
      "metadata": {
        "colab": {
          "base_uri": "https://localhost:8080/",
          "height": 35
        },
        "id": "HbXk-BcIG9Ed",
        "outputId": "e22d6b64-1970-4b6d-e891-c6d31219169b"
      },
      "source": [
        "secret_word = 'apple'\n",
        "letters_guessed = ['e', 'i', 'k', 'l','a', 's']\n",
        "get_guessed_word(secret_word, letters_guessed)"
      ],
      "execution_count": null,
      "outputs": [
        {
          "output_type": "execute_result",
          "data": {
            "application/vnd.google.colaboratory.intrinsic+json": {
              "type": "string"
            },
            "text/plain": [
              "'a _ _ l e'"
            ]
          },
          "metadata": {},
          "execution_count": 41
        }
      ]
    },
    {
      "cell_type": "code",
      "metadata": {
        "colab": {
          "base_uri": "https://localhost:8080/"
        },
        "id": "bUh3T8xUQ54B",
        "outputId": "f702c3e5-cf68-451a-e88d-4fa21302984e"
      },
      "source": [
        "'apple'.count('p')"
      ],
      "execution_count": null,
      "outputs": [
        {
          "output_type": "execute_result",
          "data": {
            "text/plain": [
              "2"
            ]
          },
          "metadata": {},
          "execution_count": 10
        }
      ]
    },
    {
      "cell_type": "code",
      "metadata": {
        "colab": {
          "base_uri": "https://localhost:8080/"
        },
        "id": "oots4zwvRlKH",
        "outputId": "777e8699-4280-40d3-dce9-01b6ba55f46d"
      },
      "source": [
        "'apple'.find('p')"
      ],
      "execution_count": null,
      "outputs": [
        {
          "output_type": "execute_result",
          "data": {
            "text/plain": [
              "1"
            ]
          },
          "metadata": {},
          "execution_count": 14
        }
      ]
    },
    {
      "cell_type": "code",
      "metadata": {
        "colab": {
          "base_uri": "https://localhost:8080/"
        },
        "id": "bGN5e54PRpE9",
        "outputId": "3f1c68e1-8760-40ea-fabc-b2ffad9028bb"
      },
      "source": [
        "'apple'[2:].find('p')"
      ],
      "execution_count": null,
      "outputs": [
        {
          "output_type": "execute_result",
          "data": {
            "text/plain": [
              "0"
            ]
          },
          "metadata": {},
          "execution_count": 17
        }
      ]
    },
    {
      "cell_type": "markdown",
      "metadata": {
        "id": "2JEOTodU7S-b"
      },
      "source": [
        "# Task 3\n",
        "\n",
        "Create a function **get_available_letter** that takes in one arguments <br> **letters_guessed** <br>**returns** string (of letters), comprised of letters that represents which letters have not yet been guessed.\n",
        "\n",
        "**Assumptions**<br>\n",
        "**letters_guessed**: list (of letters), which letters have been guessed so far;<br>\n",
        "\n",
        "**Example**:-<br>\n",
        "letters_guessed = [’a’, ’l’, ’m’]<br>\n",
        "get_available_letter() will return 'bcdefghijknopqrstuvwxyz'<br>\n",
        "```\n",
        "You might want to consider using string.ascii_lowercase :=\n",
        "\n",
        "import string\n",
        "print(string.ascii_lowercase)\n",
        "output:- abcdefghijklmnopqrstuvwxyz\n",
        "```"
      ]
    },
    {
      "cell_type": "code",
      "metadata": {
        "colab": {
          "base_uri": "https://localhost:8080/"
        },
        "id": "fO2T7f3jIDvS",
        "outputId": "29c346dd-74cb-492e-9915-83872c451803"
      },
      "source": [
        "import string\n",
        "print(string.ascii_lowercase)"
      ],
      "execution_count": null,
      "outputs": [
        {
          "output_type": "stream",
          "name": "stdout",
          "text": [
            "abcdefghijklmnopqrstuvwxyz\n"
          ]
        }
      ]
    },
    {
      "cell_type": "code",
      "metadata": {
        "id": "49iXhJXY7S-c"
      },
      "source": [
        "import string\n",
        "def get_available_letters(letters_guessed):\n",
        "    '''\n",
        "    letters_guessed: list (of letters), which letters have been guessed so far\n",
        "    returns: string (of letters), comprised of letters that represents which letters have not\n",
        "      yet been guessed.\n",
        "    '''\n",
        "    # FILL IN YOUR CODE HERE \n",
        "    alphabets = string.ascii_lowercase\n",
        "    not_guessed = [x for x in alphabets if x not in letters_guessed]\n",
        "    return \"\".join(not_guessed)\n",
        "    \n",
        "    \n",
        "    "
      ],
      "execution_count": null,
      "outputs": []
    },
    {
      "cell_type": "markdown",
      "metadata": {
        "id": "8iyqLF-qIpnn"
      },
      "source": [
        "## Test get_available_letters function"
      ]
    },
    {
      "cell_type": "code",
      "metadata": {
        "colab": {
          "base_uri": "https://localhost:8080/",
          "height": 35
        },
        "id": "QARuKs8MIupf",
        "outputId": "85e3aee0-d641-49de-d00c-8a0bbb5e3804"
      },
      "source": [
        "letters_guessed = ['a', 'l', 'm']\n",
        "get_available_letters(letters_guessed)"
      ],
      "execution_count": null,
      "outputs": [
        {
          "output_type": "execute_result",
          "data": {
            "application/vnd.google.colaboratory.intrinsic+json": {
              "type": "string"
            },
            "text/plain": [
              "'bcdefghijknopqrstuvwxyz'"
            ]
          },
          "metadata": {},
          "execution_count": 7
        }
      ]
    },
    {
      "cell_type": "markdown",
      "metadata": {
        "id": "JKwtkXBi7S-c"
      },
      "source": [
        "### Great, We have created all of the Helper functions, now let's start our work on the actual Hangman Game\n",
        "\n",
        "# Hangman Game\n",
        "\n",
        "Create a function **hangman** that takes in one argument<br>\n",
        "**secret_word** :- string, the secret word to guess.<br>\n",
        "\n",
        "**The function should do the following**:-<br>\n",
        "Starts up an interactive game of Hangman.\n",
        "\n",
        "* At the start of the game, let the user know how many letters the secret_word contains and how many guesses s/he starts with.\n",
        "\n",
        "* The user should start with 6 guesses\n",
        "\n",
        "* Before each round, you should display to the user how many guesses s/he has left and the letters that the user has not yet guessed.\n",
        "\n",
        "* Ask the user to supply one guess per round. Remember to make sure that the user puts in a letter!\n",
        "\n",
        "* The user should receive feedback immediately after each guess about whether their guess appears in the computer's word.\n",
        "\n",
        "* After each guess, you should display to the user the partially guessed word so far.\n",
        "\n",
        "* If the user inputs a letter that hasn’t been guessed before and the letter is in the secret word, the user loses no guesses.\n",
        "\n",
        "* Consonants: If the user inputs a consonant that hasn’t been guessed and the consonant is not in the secret word, the user loses one guess if it’s a consonant.\n",
        "* Vowels: If the vowel hasn’t been guessed and the vowel is not in the secret word, the user loses two guesses. Vowels are a, e, i, o, and u. y does not count as a vowel.\n",
        "\n",
        "* The game should end when the user constructs the full word or runs out of guesses.\n",
        "* If the player runs out of guesses before completing the word, tell them they lost and reveal the word to the user when the game ends.\n",
        "* If the user wins, print a congratulatory message and tell the user their score.\n",
        "* The total score is the number of guesses_remaining once the user has guessed the secret_word times the number of unique letters in secret_word.\n",
        "```\n",
        "Total score = guesses_remaining * number unique letters in secret_word\n",
        "```"
      ]
    },
    {
      "cell_type": "markdown",
      "metadata": {
        "id": "8MUePMd_7S-c"
      },
      "source": [
        "## Demo Game 1\n",
        "```\n",
        "Welcome to the game Hangman!\n",
        "I am thinking of a word that is 4 letters long.\n",
        "-------------\n",
        "You have 6 guesses left.\n",
        "Available letters: abcdefghijklmnopqrstuvwxyz\n",
        "Please guess a letter: ​a\n",
        "Good guess: _ a_ _\n",
        "------------\n",
        "You have 6 guesses left.\n",
        "Available letters: bcdefghijklmnopqrstuvwxyz\n",
        "Please guess a letter: ​s\n",
        "Oops! That letter is not in my word.\n",
        "Please guess a letter: _ a_ _\n",
        "------------\n",
        "You have 5 guesses left.\n",
        "Available letters: bcdefghijklmnopqrtuvwxyz\n",
        "Please guess a letter: ​t\n",
        "Good guess: ta_ t\n",
        "------------\n",
        "You have 5 guesses left.\n",
        "Available letters: bcdefghijklmnopqrtuvwxyz\n",
        "Please guess a letter: ​e\n",
        "Oops! That letter is not in my word: ta_ t\n",
        "------------\n",
        "You have 3 guesses left.\n",
        "Available letters: bcdfghijklnopquvwxyz Please guess a letter: ​c\n",
        "Good guess: tact\n",
        "------------\n",
        "Congratulations, you won!\n",
        "Your total score for this game is: 6\n",
        "```"
      ]
    },
    {
      "cell_type": "markdown",
      "metadata": {
        "id": "VlmsTNOm7S-c"
      },
      "source": [
        "## Demo Game 2\n",
        "```\n",
        "Welcome to the game Hangman!\n",
        "I am thinking of a word that is 4 letters long\n",
        "-----------\n",
        "You have 6 guesses left\n",
        "Available Letters: abcdefghijklmnopqrstuvwxyz\n",
        "Please guess a letter: ​a\n",
        "Oops! That letter is not in my word: _ _ _ _\n",
        "-----------\n",
        "You have 4 guesses left\n",
        "Available Letters: bcdefghijklmnopqrstuvwxyz\n",
        "Please guess a letter: ​b\n",
        "Oops! That letter is not in my word: _ _ _ _\n",
        "-----------\n",
        "You have 3 guesses left\n",
        "Available Letters: cdefghijklmnopqrstuvwxyz\n",
        "Please guess a letter: ​c\n",
        "Oops! That letter is not in my word: _ _ _ _\n",
        "-----------\n",
        "You have 2 guesses left\n",
        "Available Letters: defghijklmnopqrstuvwxyz\n",
        "Please guess a letter: ​d\n",
        "Oops! That letter is not in my word: _ _ _ _\n",
        "-----------\n",
        "You have 1 guesses left\n",
        "Available Letters: efghijklmnopqrstuvwxyz\n",
        "Please guess a letter: ​e\n",
        "Good guess: e_ _ e\n",
        "-----------\n",
        "You have 1 guesses left\n",
        "Available Letters: fghijklmnopqrstuvwxyz\n",
        "Please guess a letter: ​f\n",
        "Oops! That letter is not in my word: e_ _ e\n",
        "-----------\n",
        "Sorry, you ran out of guesses. The word was else.\n",
        "```"
      ]
    },
    {
      "cell_type": "markdown",
      "metadata": {
        "id": "bLU6Wp-v7S-d"
      },
      "source": [
        "## Hints\n",
        "**Try to keep the output as similar to the one's above**<br>\n",
        "**Hints:-**\n",
        "```\n",
        "1. Consider writing additional helper functions if you need them.\n",
        "2. There are four important pieces of information you may wish to store:\n",
        "a. secret_word​: The word to guess. This is already used as the parameter name for the ​hangman​ function.\n",
        "b. letters_guessed​: The letters that have been guessed so far. If they guess a letter that is already in ​letters_guessed​, you should print a message telling them they've already guessed that but do not penalize them for it.\n",
        "c. guesses_remaining​: The number of guesses the user has left. Note that in our example game, the penalty for choosing an incorrect vowel is different than the penalty for choosing an incorrect consonant.\n",
        "```"
      ]
    },
    {
      "cell_type": "code",
      "metadata": {
        "colab": {
          "base_uri": "https://localhost:8080/"
        },
        "id": "ghSm9HbwL08-",
        "outputId": "74bc4769-9bc0-4137-c93d-bb03d684049c"
      },
      "source": [
        "list(set('apple'))"
      ],
      "execution_count": null,
      "outputs": [
        {
          "output_type": "execute_result",
          "data": {
            "text/plain": [
              "['p', 'a', 'l', 'e']"
            ]
          },
          "metadata": {},
          "execution_count": 65
        }
      ]
    },
    {
      "cell_type": "code",
      "metadata": {
        "id": "tKkS6JpI7S-d"
      },
      "source": [
        "\n",
        "def no_of_unique_words(string):\n",
        "    #code here\n",
        "    return len(list(set(string)))\n",
        "\n",
        "\n",
        "\n",
        "\n",
        "    \n",
        "    \n",
        "    \n",
        "def hangman(secret_word):\n",
        "    #code here\n",
        "    guesses = len(secret_word)\n",
        "    print(\"Welcome to the game Hangman!\")\n",
        "    print(f\"I am thinking of a word that is {len(secret_word)} letters long.\")\n",
        "    print(\"-\"*80)\n",
        "    print(f\"Available letters : {get_available_letters([])}\")\n",
        "    lettrs = ['_' for i in range(len(secret_word))]\n",
        "    #print(lettrs)\n",
        "    while guesses > 0 :\n",
        "      print(f\"You have {guesses} guesses left\")\n",
        "      word = input(\"Please guess a letter: ​\")\n",
        "      letters_guessed = []\n",
        "      letters_guessed.append(word)\n",
        "      print(letters_guessed)\n",
        "      if len(letters_guessed[0]) == 1:\n",
        "        print(\"here\")\n",
        "        print(f\"Available letters : {get_available_letters(letters_guessed)}\")\n",
        "      else:\n",
        "        if \" \".join(letters_guessed) == secret_word:\n",
        "          print(\"Congratulations, you won!\") \n",
        "          Total_score = guesses * no_of_unique_words(secret_word)\n",
        "          print(f\"Your total score for this game is: {Total_score}\")\n",
        "          break\n",
        "        else:\n",
        "          print(f\"Oops! That letter does not match my word\")\n",
        "\n",
        "\n",
        "\n",
        "      if word in ['a','e','i','o','u']:\n",
        "        guesses -= 2\n",
        "      else :\n",
        "        guesses -= 1\n",
        "\n",
        "      if is_word_guessed(secret_word, letters_guessed)  == True and len(letters_guessed) ==1:\n",
        "        #print(get_guessed_word(secret_word, letters_guessed).split())\n",
        "        for indx,wrd in enumerate(get_guessed_word(secret_word, letters_guessed).split()):\n",
        "             \n",
        "          if wrd != '_':\n",
        "            lettrs[indx] = wrd\n",
        "\n",
        "        print(f'Good guess: {\" \".join(lettrs)}')\n",
        "      else:\n",
        "        print(f\"Oops! That letter is not in my word: {'_ '* len(secret_word)}\")\n",
        "\n",
        "      print(\"-\"*80)\n",
        "      if \" \".join(letters_guessed) == secret_word:\n",
        "        print(\"Congratulations, you won!\") \n",
        "        Total_score = guesses * no_of_unique_words(secret_word)\n",
        "        print(f\"Your total score for this game is: {Total_score}\")\n",
        "        break\n",
        "\n",
        "  \n",
        "  \n",
        "\n",
        "\n",
        "\n"
      ],
      "execution_count": null,
      "outputs": []
    },
    {
      "cell_type": "code",
      "metadata": {
        "id": "72fT64x-7S-d",
        "colab": {
          "base_uri": "https://localhost:8080/"
        },
        "outputId": "4f93ed68-9785-4b30-bc2b-6b89fed424ea"
      },
      "source": [
        "# When you've completed your hangman function, test it out to see it is working fine\n",
        "# (hint: you might want to pick your own\n",
        "# secret_word while you're doing your own testing by changing 'apple' to any other string)\n",
        "hangman('apple')"
      ],
      "execution_count": null,
      "outputs": [
        {
          "output_type": "stream",
          "name": "stdout",
          "text": [
            "Welcome to the game Hangman!\n",
            "I am thinking of a word that is 5 letters long.\n",
            "--------------------------------------------------------------------------------\n",
            "Available letters : abcdefghijklmnopqrstuvwxyz\n",
            "You have 5 guesses left\n",
            "Please guess a letter: ​a\n",
            "['a']\n",
            "here\n",
            "Available letters : bcdefghijklmnopqrstuvwxyz\n",
            "Good guess: a _ _ _ _\n",
            "--------------------------------------------------------------------------------\n",
            "You have 3 guesses left\n",
            "Please guess a letter: ​p\n",
            "['p']\n",
            "here\n",
            "Available letters : abcdefghijklmnoqrstuvwxyz\n",
            "Good guess: a p p _ _\n",
            "--------------------------------------------------------------------------------\n",
            "You have 2 guesses left\n",
            "Please guess a letter: ​apple\n",
            "['apple']\n",
            "Congratulations, you won!\n",
            "Your total score for this game is: 8\n"
          ]
        }
      ]
    },
    {
      "cell_type": "markdown",
      "metadata": {
        "id": "Cb5jjmAM7S-d"
      },
      "source": [
        "## Congratulations all of your hardwork paid of, you have just created the Hangman Game<br>\n",
        "**now go ahead and play the game you created, run the cell below**\n",
        "\n"
      ]
    },
    {
      "cell_type": "code",
      "metadata": {
        "colab": {
          "base_uri": "https://localhost:8080/",
          "height": 35
        },
        "id": "BhFHm8mELAS9",
        "outputId": "c6b8a001-cf2a-431e-8cd4-68229fcba537"
      },
      "source": [
        "import random\n",
        "words = ['army', 'beautiful', 'became', 'if', 'actually', 'beside', 'between','come','eye','five','fur','imposter', 'problem' ,'revenge' ,'few' ,'circle' ,'district','trade','quota','stop','depressed','disorder','dentist']\n",
        "\n",
        "#choose a random word from list using random.choice() function\n",
        "random_word = random.choice(words) \n",
        "random_word"
      ],
      "execution_count": null,
      "outputs": [
        {
          "output_type": "execute_result",
          "data": {
            "application/vnd.google.colaboratory.intrinsic+json": {
              "type": "string"
            },
            "text/plain": [
              "'problem'"
            ]
          },
          "metadata": {},
          "execution_count": 63
        }
      ]
    },
    {
      "cell_type": "code",
      "metadata": {
        "id": "mYgGZ6QK7S-d",
        "colab": {
          "base_uri": "https://localhost:8080/"
        },
        "outputId": "786909b4-3cbd-4d7a-bb83-9117323d727e"
      },
      "source": [
        "import random\n",
        "words = ['army', 'beautiful', 'became', 'if', 'actually', 'beside', 'between','come','eye','five','fur','imposter', 'problem' ,'revenge' ,'few' ,'circle' ,'district','trade','quota','stop','depressed','disorder','dentist']\n",
        "\n",
        "#choose a random word from list using random.choice() function\n",
        "random_word = random.choice(words) \n",
        "\n",
        "#check you function\n",
        "hangman(random_word)"
      ],
      "execution_count": null,
      "outputs": [
        {
          "output_type": "stream",
          "name": "stdout",
          "text": [
            "Welcome to the game Hangman!\n",
            "I am thinking of a word that is 4 letters long.\n",
            "--------------------------------------------------------------------------------\n",
            "Available letters : abcdefghijklmnopqrstuvwxyz\n",
            "You have 4 guesses left\n",
            "Please guess a letter: ​a\n",
            "['a']\n",
            "here\n",
            "Available letters : bcdefghijklmnopqrstuvwxyz\n",
            "Good guess: a _ _ _\n",
            "--------------------------------------------------------------------------------\n",
            "You have 2 guesses left\n",
            "Please guess a letter: ​r\n",
            "['r']\n",
            "here\n",
            "Available letters : abcdefghijklmnopqstuvwxyz\n",
            "Good guess: a r _ _\n",
            "--------------------------------------------------------------------------------\n",
            "You have 1 guesses left\n",
            "Please guess a letter: ​army\n",
            "['army']\n",
            "Congratulations, you won!\n",
            "Your total score for this game is: 4\n"
          ]
        }
      ]
    },
    {
      "cell_type": "markdown",
      "metadata": {
        "id": "MC7Fh6LW7S-e"
      },
      "source": [
        "--------------------------------------\n",
        "Wohooo! You did a really good job. We hope you enjoyed your first mini python project here. \n",
        "\n",
        "We understand it was bit challenging and time taking, but it's worth it, coz here you are to achieve your goal and this course will help you in all posible way to make your dreams come true.\n",
        "\n"
      ]
    },
    {
      "cell_type": "markdown",
      "metadata": {
        "id": "hwAcx9767S-e"
      },
      "source": [
        "\n",
        "\n",
        "----------------------------------------------------------------------"
      ]
    },
    {
      "cell_type": "markdown",
      "metadata": {
        "id": "-3Qsx7Wu7S-e"
      },
      "source": [
        "# Bam!, you completed the second milestone challenge too:)!! "
      ]
    },
    {
      "cell_type": "markdown",
      "metadata": {
        "id": "eQCKV2ZO7S-e"
      },
      "source": [
        "# FeedBack\n",
        "We hope you’ve enjoyed this course so far. We’re committed to help you use \"AI for All\" course to its full potential, so that you have a great learning experience. And that’s why we need your help in form of a feedback here.\n",
        "\n",
        "Please fill this feedback form https://docs.google.com/forms/d/e/1FAIpQLSfjBmH0yJSSA34IhSVx4h2eDMgOAeG4Dk-yHid__NMTk3Hq5g/viewform"
      ]
    }
  ]
}